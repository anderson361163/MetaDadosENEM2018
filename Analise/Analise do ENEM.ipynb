{
 "cells": [
  {
   "cell_type": "markdown",
   "metadata": {},
   "source": [
    "# Analise de dados do ENEM"
   ]
  },
  {
   "cell_type": "code",
   "execution_count": 3,
   "metadata": {},
   "outputs": [],
   "source": [
    "#Importação do pandas com a abreviação do pacote\n",
    "import pandas as pd\n",
    "import matplotlib"
   ]
  },
  {
   "cell_type": "code",
   "execution_count": 4,
   "metadata": {},
   "outputs": [],
   "source": [
    "microdadosEnem = pd.read_csv(\"microdados_educacao_superior_2018/microdados_ed_superior_2018/dados/MICRODADOS_ENEM_2018_SAMPLE_43278.csv\", sep=\",\", encoding='UTF-8')"
   ]
  },
  {
   "cell_type": "code",
   "execution_count": 5,
   "metadata": {},
   "outputs": [
    {
     "data": {
      "text/html": [
       "<div>\n",
       "<style scoped>\n",
       "    .dataframe tbody tr th:only-of-type {\n",
       "        vertical-align: middle;\n",
       "    }\n",
       "\n",
       "    .dataframe tbody tr th {\n",
       "        vertical-align: top;\n",
       "    }\n",
       "\n",
       "    .dataframe thead th {\n",
       "        text-align: right;\n",
       "    }\n",
       "</style>\n",
       "<table border=\"1\" class=\"dataframe\">\n",
       "  <thead>\n",
       "    <tr style=\"text-align: right;\">\n",
       "      <th></th>\n",
       "      <th>NU_INSCRICAO</th>\n",
       "      <th>NU_ANO</th>\n",
       "      <th>CO_MUNICIPIO_RESIDENCIA</th>\n",
       "      <th>NO_MUNICIPIO_RESIDENCIA</th>\n",
       "      <th>CO_UF_RESIDENCIA</th>\n",
       "      <th>SG_UF_RESIDENCIA</th>\n",
       "      <th>NU_IDADE</th>\n",
       "      <th>TP_SEXO</th>\n",
       "      <th>TP_ESTADO_CIVIL</th>\n",
       "      <th>TP_COR_RACA</th>\n",
       "      <th>...</th>\n",
       "      <th>Q018</th>\n",
       "      <th>Q019</th>\n",
       "      <th>Q020</th>\n",
       "      <th>Q021</th>\n",
       "      <th>Q022</th>\n",
       "      <th>Q023</th>\n",
       "      <th>Q024</th>\n",
       "      <th>Q025</th>\n",
       "      <th>Q026</th>\n",
       "      <th>Q027</th>\n",
       "    </tr>\n",
       "  </thead>\n",
       "  <tbody>\n",
       "    <tr>\n",
       "      <th>0</th>\n",
       "      <td>180009327796</td>\n",
       "      <td>2018</td>\n",
       "      <td>2112209</td>\n",
       "      <td>Timon</td>\n",
       "      <td>21</td>\n",
       "      <td>MA</td>\n",
       "      <td>34.0</td>\n",
       "      <td>M</td>\n",
       "      <td>1.0</td>\n",
       "      <td>1</td>\n",
       "      <td>...</td>\n",
       "      <td>A</td>\n",
       "      <td>B</td>\n",
       "      <td>A</td>\n",
       "      <td>A</td>\n",
       "      <td>C</td>\n",
       "      <td>A</td>\n",
       "      <td>B</td>\n",
       "      <td>B</td>\n",
       "      <td>A</td>\n",
       "      <td>A</td>\n",
       "    </tr>\n",
       "    <tr>\n",
       "      <th>1</th>\n",
       "      <td>180012890374</td>\n",
       "      <td>2018</td>\n",
       "      <td>3557105</td>\n",
       "      <td>Votuporanga</td>\n",
       "      <td>35</td>\n",
       "      <td>SP</td>\n",
       "      <td>14.0</td>\n",
       "      <td>M</td>\n",
       "      <td>0.0</td>\n",
       "      <td>1</td>\n",
       "      <td>...</td>\n",
       "      <td>A</td>\n",
       "      <td>C</td>\n",
       "      <td>A</td>\n",
       "      <td>B</td>\n",
       "      <td>E</td>\n",
       "      <td>B</td>\n",
       "      <td>D</td>\n",
       "      <td>B</td>\n",
       "      <td>D</td>\n",
       "      <td>D</td>\n",
       "    </tr>\n",
       "    <tr>\n",
       "      <th>2</th>\n",
       "      <td>180008223824</td>\n",
       "      <td>2018</td>\n",
       "      <td>2506301</td>\n",
       "      <td>Guarabira</td>\n",
       "      <td>25</td>\n",
       "      <td>PB</td>\n",
       "      <td>20.0</td>\n",
       "      <td>F</td>\n",
       "      <td>0.0</td>\n",
       "      <td>2</td>\n",
       "      <td>...</td>\n",
       "      <td>A</td>\n",
       "      <td>B</td>\n",
       "      <td>A</td>\n",
       "      <td>A</td>\n",
       "      <td>D</td>\n",
       "      <td>A</td>\n",
       "      <td>B</td>\n",
       "      <td>B</td>\n",
       "      <td>A</td>\n",
       "      <td>E</td>\n",
       "    </tr>\n",
       "    <tr>\n",
       "      <th>3</th>\n",
       "      <td>180007859645</td>\n",
       "      <td>2018</td>\n",
       "      <td>3534807</td>\n",
       "      <td>Ouro Verde</td>\n",
       "      <td>35</td>\n",
       "      <td>SP</td>\n",
       "      <td>17.0</td>\n",
       "      <td>F</td>\n",
       "      <td>0.0</td>\n",
       "      <td>2</td>\n",
       "      <td>...</td>\n",
       "      <td>A</td>\n",
       "      <td>B</td>\n",
       "      <td>A</td>\n",
       "      <td>A</td>\n",
       "      <td>E</td>\n",
       "      <td>A</td>\n",
       "      <td>A</td>\n",
       "      <td>A</td>\n",
       "      <td>B</td>\n",
       "      <td>A</td>\n",
       "    </tr>\n",
       "    <tr>\n",
       "      <th>4</th>\n",
       "      <td>180013499517</td>\n",
       "      <td>2018</td>\n",
       "      <td>3523107</td>\n",
       "      <td>Itaquaquecetuba</td>\n",
       "      <td>35</td>\n",
       "      <td>SP</td>\n",
       "      <td>19.0</td>\n",
       "      <td>M</td>\n",
       "      <td>0.0</td>\n",
       "      <td>3</td>\n",
       "      <td>...</td>\n",
       "      <td>A</td>\n",
       "      <td>B</td>\n",
       "      <td>A</td>\n",
       "      <td>A</td>\n",
       "      <td>D</td>\n",
       "      <td>B</td>\n",
       "      <td>B</td>\n",
       "      <td>B</td>\n",
       "      <td>A</td>\n",
       "      <td>A</td>\n",
       "    </tr>\n",
       "  </tbody>\n",
       "</table>\n",
       "<p>5 rows × 137 columns</p>\n",
       "</div>"
      ],
      "text/plain": [
       "   NU_INSCRICAO  NU_ANO  CO_MUNICIPIO_RESIDENCIA NO_MUNICIPIO_RESIDENCIA  \\\n",
       "0  180009327796    2018                  2112209                   Timon   \n",
       "1  180012890374    2018                  3557105             Votuporanga   \n",
       "2  180008223824    2018                  2506301               Guarabira   \n",
       "3  180007859645    2018                  3534807              Ouro Verde   \n",
       "4  180013499517    2018                  3523107         Itaquaquecetuba   \n",
       "\n",
       "   CO_UF_RESIDENCIA SG_UF_RESIDENCIA  NU_IDADE TP_SEXO  TP_ESTADO_CIVIL  \\\n",
       "0                21               MA      34.0       M              1.0   \n",
       "1                35               SP      14.0       M              0.0   \n",
       "2                25               PB      20.0       F              0.0   \n",
       "3                35               SP      17.0       F              0.0   \n",
       "4                35               SP      19.0       M              0.0   \n",
       "\n",
       "   TP_COR_RACA  ...  Q018  Q019 Q020  Q021 Q022  Q023  Q024  Q025  Q026  Q027  \n",
       "0            1  ...     A     B    A     A    C     A     B     B     A     A  \n",
       "1            1  ...     A     C    A     B    E     B     D     B     D     D  \n",
       "2            2  ...     A     B    A     A    D     A     B     B     A     E  \n",
       "3            2  ...     A     B    A     A    E     A     A     A     B     A  \n",
       "4            3  ...     A     B    A     A    D     B     B     B     A     A  \n",
       "\n",
       "[5 rows x 137 columns]"
      ]
     },
     "execution_count": 5,
     "metadata": {},
     "output_type": "execute_result"
    }
   ],
   "source": [
    "microdadosEnem.head()"
   ]
  },
  {
   "cell_type": "code",
   "execution_count": 6,
   "metadata": {
    "scrolled": false
   },
   "outputs": [
    {
     "data": {
      "text/html": [
       "<div>\n",
       "<style scoped>\n",
       "    .dataframe tbody tr th:only-of-type {\n",
       "        vertical-align: middle;\n",
       "    }\n",
       "\n",
       "    .dataframe tbody tr th {\n",
       "        vertical-align: top;\n",
       "    }\n",
       "\n",
       "    .dataframe thead th {\n",
       "        text-align: right;\n",
       "    }\n",
       "</style>\n",
       "<table border=\"1\" class=\"dataframe\">\n",
       "  <thead>\n",
       "    <tr style=\"text-align: right;\">\n",
       "      <th></th>\n",
       "      <th>NU_INSCRICAO</th>\n",
       "      <th>NU_ANO</th>\n",
       "      <th>CO_MUNICIPIO_RESIDENCIA</th>\n",
       "      <th>NO_MUNICIPIO_RESIDENCIA</th>\n",
       "      <th>CO_UF_RESIDENCIA</th>\n",
       "      <th>SG_UF_RESIDENCIA</th>\n",
       "      <th>NU_IDADE</th>\n",
       "      <th>TP_SEXO</th>\n",
       "      <th>TP_ESTADO_CIVIL</th>\n",
       "      <th>TP_COR_RACA</th>\n",
       "      <th>...</th>\n",
       "      <th>Q018</th>\n",
       "      <th>Q019</th>\n",
       "      <th>Q020</th>\n",
       "      <th>Q021</th>\n",
       "      <th>Q022</th>\n",
       "      <th>Q023</th>\n",
       "      <th>Q024</th>\n",
       "      <th>Q025</th>\n",
       "      <th>Q026</th>\n",
       "      <th>Q027</th>\n",
       "    </tr>\n",
       "  </thead>\n",
       "  <tbody>\n",
       "    <tr>\n",
       "      <th>0</th>\n",
       "      <td>180009327796</td>\n",
       "      <td>2018</td>\n",
       "      <td>2112209</td>\n",
       "      <td>Timon</td>\n",
       "      <td>21</td>\n",
       "      <td>MA</td>\n",
       "      <td>34.0</td>\n",
       "      <td>M</td>\n",
       "      <td>1.0</td>\n",
       "      <td>1</td>\n",
       "      <td>...</td>\n",
       "      <td>A</td>\n",
       "      <td>B</td>\n",
       "      <td>A</td>\n",
       "      <td>A</td>\n",
       "      <td>C</td>\n",
       "      <td>A</td>\n",
       "      <td>B</td>\n",
       "      <td>B</td>\n",
       "      <td>A</td>\n",
       "      <td>A</td>\n",
       "    </tr>\n",
       "    <tr>\n",
       "      <th>1</th>\n",
       "      <td>180012890374</td>\n",
       "      <td>2018</td>\n",
       "      <td>3557105</td>\n",
       "      <td>Votuporanga</td>\n",
       "      <td>35</td>\n",
       "      <td>SP</td>\n",
       "      <td>14.0</td>\n",
       "      <td>M</td>\n",
       "      <td>0.0</td>\n",
       "      <td>1</td>\n",
       "      <td>...</td>\n",
       "      <td>A</td>\n",
       "      <td>C</td>\n",
       "      <td>A</td>\n",
       "      <td>B</td>\n",
       "      <td>E</td>\n",
       "      <td>B</td>\n",
       "      <td>D</td>\n",
       "      <td>B</td>\n",
       "      <td>D</td>\n",
       "      <td>D</td>\n",
       "    </tr>\n",
       "    <tr>\n",
       "      <th>2</th>\n",
       "      <td>180008223824</td>\n",
       "      <td>2018</td>\n",
       "      <td>2506301</td>\n",
       "      <td>Guarabira</td>\n",
       "      <td>25</td>\n",
       "      <td>PB</td>\n",
       "      <td>20.0</td>\n",
       "      <td>F</td>\n",
       "      <td>0.0</td>\n",
       "      <td>2</td>\n",
       "      <td>...</td>\n",
       "      <td>A</td>\n",
       "      <td>B</td>\n",
       "      <td>A</td>\n",
       "      <td>A</td>\n",
       "      <td>D</td>\n",
       "      <td>A</td>\n",
       "      <td>B</td>\n",
       "      <td>B</td>\n",
       "      <td>A</td>\n",
       "      <td>E</td>\n",
       "    </tr>\n",
       "    <tr>\n",
       "      <th>3</th>\n",
       "      <td>180007859645</td>\n",
       "      <td>2018</td>\n",
       "      <td>3534807</td>\n",
       "      <td>Ouro Verde</td>\n",
       "      <td>35</td>\n",
       "      <td>SP</td>\n",
       "      <td>17.0</td>\n",
       "      <td>F</td>\n",
       "      <td>0.0</td>\n",
       "      <td>2</td>\n",
       "      <td>...</td>\n",
       "      <td>A</td>\n",
       "      <td>B</td>\n",
       "      <td>A</td>\n",
       "      <td>A</td>\n",
       "      <td>E</td>\n",
       "      <td>A</td>\n",
       "      <td>A</td>\n",
       "      <td>A</td>\n",
       "      <td>B</td>\n",
       "      <td>A</td>\n",
       "    </tr>\n",
       "    <tr>\n",
       "      <th>4</th>\n",
       "      <td>180013499517</td>\n",
       "      <td>2018</td>\n",
       "      <td>3523107</td>\n",
       "      <td>Itaquaquecetuba</td>\n",
       "      <td>35</td>\n",
       "      <td>SP</td>\n",
       "      <td>19.0</td>\n",
       "      <td>M</td>\n",
       "      <td>0.0</td>\n",
       "      <td>3</td>\n",
       "      <td>...</td>\n",
       "      <td>A</td>\n",
       "      <td>B</td>\n",
       "      <td>A</td>\n",
       "      <td>A</td>\n",
       "      <td>D</td>\n",
       "      <td>B</td>\n",
       "      <td>B</td>\n",
       "      <td>B</td>\n",
       "      <td>A</td>\n",
       "      <td>A</td>\n",
       "    </tr>\n",
       "    <tr>\n",
       "      <th>...</th>\n",
       "      <td>...</td>\n",
       "      <td>...</td>\n",
       "      <td>...</td>\n",
       "      <td>...</td>\n",
       "      <td>...</td>\n",
       "      <td>...</td>\n",
       "      <td>...</td>\n",
       "      <td>...</td>\n",
       "      <td>...</td>\n",
       "      <td>...</td>\n",
       "      <td>...</td>\n",
       "      <td>...</td>\n",
       "      <td>...</td>\n",
       "      <td>...</td>\n",
       "      <td>...</td>\n",
       "      <td>...</td>\n",
       "      <td>...</td>\n",
       "      <td>...</td>\n",
       "      <td>...</td>\n",
       "      <td>...</td>\n",
       "      <td>...</td>\n",
       "    </tr>\n",
       "    <tr>\n",
       "      <th>137839</th>\n",
       "      <td>180012079549</td>\n",
       "      <td>2018</td>\n",
       "      <td>4202305</td>\n",
       "      <td>Biguaçu</td>\n",
       "      <td>42</td>\n",
       "      <td>SC</td>\n",
       "      <td>21.0</td>\n",
       "      <td>F</td>\n",
       "      <td>0.0</td>\n",
       "      <td>1</td>\n",
       "      <td>...</td>\n",
       "      <td>B</td>\n",
       "      <td>B</td>\n",
       "      <td>A</td>\n",
       "      <td>B</td>\n",
       "      <td>C</td>\n",
       "      <td>A</td>\n",
       "      <td>A</td>\n",
       "      <td>B</td>\n",
       "      <td>A</td>\n",
       "      <td>A</td>\n",
       "    </tr>\n",
       "    <tr>\n",
       "      <th>137840</th>\n",
       "      <td>180008900183</td>\n",
       "      <td>2018</td>\n",
       "      <td>2111300</td>\n",
       "      <td>São Luís</td>\n",
       "      <td>21</td>\n",
       "      <td>MA</td>\n",
       "      <td>22.0</td>\n",
       "      <td>F</td>\n",
       "      <td>0.0</td>\n",
       "      <td>1</td>\n",
       "      <td>...</td>\n",
       "      <td>A</td>\n",
       "      <td>B</td>\n",
       "      <td>A</td>\n",
       "      <td>A</td>\n",
       "      <td>B</td>\n",
       "      <td>A</td>\n",
       "      <td>A</td>\n",
       "      <td>A</td>\n",
       "      <td>A</td>\n",
       "      <td>A</td>\n",
       "    </tr>\n",
       "    <tr>\n",
       "      <th>137841</th>\n",
       "      <td>180013130388</td>\n",
       "      <td>2018</td>\n",
       "      <td>2208650</td>\n",
       "      <td>Queimada Nova</td>\n",
       "      <td>22</td>\n",
       "      <td>PI</td>\n",
       "      <td>18.0</td>\n",
       "      <td>M</td>\n",
       "      <td>0.0</td>\n",
       "      <td>3</td>\n",
       "      <td>...</td>\n",
       "      <td>A</td>\n",
       "      <td>B</td>\n",
       "      <td>B</td>\n",
       "      <td>A</td>\n",
       "      <td>C</td>\n",
       "      <td>A</td>\n",
       "      <td>B</td>\n",
       "      <td>B</td>\n",
       "      <td>A</td>\n",
       "      <td>A</td>\n",
       "    </tr>\n",
       "    <tr>\n",
       "      <th>137842</th>\n",
       "      <td>180009618129</td>\n",
       "      <td>2018</td>\n",
       "      <td>2805703</td>\n",
       "      <td>Propriá</td>\n",
       "      <td>28</td>\n",
       "      <td>SE</td>\n",
       "      <td>28.0</td>\n",
       "      <td>F</td>\n",
       "      <td>0.0</td>\n",
       "      <td>1</td>\n",
       "      <td>...</td>\n",
       "      <td>A</td>\n",
       "      <td>C</td>\n",
       "      <td>B</td>\n",
       "      <td>A</td>\n",
       "      <td>C</td>\n",
       "      <td>A</td>\n",
       "      <td>A</td>\n",
       "      <td>B</td>\n",
       "      <td>D</td>\n",
       "      <td>A</td>\n",
       "    </tr>\n",
       "    <tr>\n",
       "      <th>137843</th>\n",
       "      <td>180010196981</td>\n",
       "      <td>2018</td>\n",
       "      <td>2611606</td>\n",
       "      <td>Recife</td>\n",
       "      <td>26</td>\n",
       "      <td>PE</td>\n",
       "      <td>25.0</td>\n",
       "      <td>F</td>\n",
       "      <td>1.0</td>\n",
       "      <td>1</td>\n",
       "      <td>...</td>\n",
       "      <td>A</td>\n",
       "      <td>B</td>\n",
       "      <td>B</td>\n",
       "      <td>A</td>\n",
       "      <td>C</td>\n",
       "      <td>B</td>\n",
       "      <td>B</td>\n",
       "      <td>B</td>\n",
       "      <td>A</td>\n",
       "      <td>A</td>\n",
       "    </tr>\n",
       "  </tbody>\n",
       "</table>\n",
       "<p>137844 rows × 137 columns</p>\n",
       "</div>"
      ],
      "text/plain": [
       "        NU_INSCRICAO  NU_ANO  CO_MUNICIPIO_RESIDENCIA NO_MUNICIPIO_RESIDENCIA  \\\n",
       "0       180009327796    2018                  2112209                   Timon   \n",
       "1       180012890374    2018                  3557105             Votuporanga   \n",
       "2       180008223824    2018                  2506301               Guarabira   \n",
       "3       180007859645    2018                  3534807              Ouro Verde   \n",
       "4       180013499517    2018                  3523107         Itaquaquecetuba   \n",
       "...              ...     ...                      ...                     ...   \n",
       "137839  180012079549    2018                  4202305                 Biguaçu   \n",
       "137840  180008900183    2018                  2111300                São Luís   \n",
       "137841  180013130388    2018                  2208650           Queimada Nova   \n",
       "137842  180009618129    2018                  2805703                 Propriá   \n",
       "137843  180010196981    2018                  2611606                  Recife   \n",
       "\n",
       "        CO_UF_RESIDENCIA SG_UF_RESIDENCIA  NU_IDADE TP_SEXO  TP_ESTADO_CIVIL  \\\n",
       "0                     21               MA      34.0       M              1.0   \n",
       "1                     35               SP      14.0       M              0.0   \n",
       "2                     25               PB      20.0       F              0.0   \n",
       "3                     35               SP      17.0       F              0.0   \n",
       "4                     35               SP      19.0       M              0.0   \n",
       "...                  ...              ...       ...     ...              ...   \n",
       "137839                42               SC      21.0       F              0.0   \n",
       "137840                21               MA      22.0       F              0.0   \n",
       "137841                22               PI      18.0       M              0.0   \n",
       "137842                28               SE      28.0       F              0.0   \n",
       "137843                26               PE      25.0       F              1.0   \n",
       "\n",
       "        TP_COR_RACA  ...  Q018  Q019 Q020  Q021 Q022  Q023  Q024  Q025  Q026  \\\n",
       "0                 1  ...     A     B    A     A    C     A     B     B     A   \n",
       "1                 1  ...     A     C    A     B    E     B     D     B     D   \n",
       "2                 2  ...     A     B    A     A    D     A     B     B     A   \n",
       "3                 2  ...     A     B    A     A    E     A     A     A     B   \n",
       "4                 3  ...     A     B    A     A    D     B     B     B     A   \n",
       "...             ...  ...   ...   ...  ...   ...  ...   ...   ...   ...   ...   \n",
       "137839            1  ...     B     B    A     B    C     A     A     B     A   \n",
       "137840            1  ...     A     B    A     A    B     A     A     A     A   \n",
       "137841            3  ...     A     B    B     A    C     A     B     B     A   \n",
       "137842            1  ...     A     C    B     A    C     A     A     B     D   \n",
       "137843            1  ...     A     B    B     A    C     B     B     B     A   \n",
       "\n",
       "        Q027  \n",
       "0          A  \n",
       "1          D  \n",
       "2          E  \n",
       "3          A  \n",
       "4          A  \n",
       "...      ...  \n",
       "137839     A  \n",
       "137840     A  \n",
       "137841     A  \n",
       "137842     A  \n",
       "137843     A  \n",
       "\n",
       "[137844 rows x 137 columns]"
      ]
     },
     "execution_count": 6,
     "metadata": {},
     "output_type": "execute_result"
    }
   ],
   "source": [
    "microdadosEnem"
   ]
  },
  {
   "cell_type": "code",
   "execution_count": 7,
   "metadata": {},
   "outputs": [
    {
     "data": {
      "text/plain": [
       "array(['NU_INSCRICAO', 'NU_ANO', 'CO_MUNICIPIO_RESIDENCIA',\n",
       "       'NO_MUNICIPIO_RESIDENCIA', 'CO_UF_RESIDENCIA', 'SG_UF_RESIDENCIA',\n",
       "       'NU_IDADE', 'TP_SEXO', 'TP_ESTADO_CIVIL', 'TP_COR_RACA',\n",
       "       'TP_NACIONALIDADE', 'CO_MUNICIPIO_NASCIMENTO',\n",
       "       'NO_MUNICIPIO_NASCIMENTO', 'CO_UF_NASCIMENTO', 'SG_UF_NASCIMENTO',\n",
       "       'TP_ST_CONCLUSAO', 'TP_ANO_CONCLUIU', 'TP_ESCOLA', 'TP_ENSINO',\n",
       "       'IN_TREINEIRO', 'CO_ESCOLA', 'CO_MUNICIPIO_ESC',\n",
       "       'NO_MUNICIPIO_ESC', 'CO_UF_ESC', 'SG_UF_ESC',\n",
       "       'TP_DEPENDENCIA_ADM_ESC', 'TP_LOCALIZACAO_ESC', 'TP_SIT_FUNC_ESC',\n",
       "       'IN_BAIXA_VISAO', 'IN_CEGUEIRA', 'IN_SURDEZ',\n",
       "       'IN_DEFICIENCIA_AUDITIVA', 'IN_SURDO_CEGUEIRA',\n",
       "       'IN_DEFICIENCIA_FISICA', 'IN_DEFICIENCIA_MENTAL',\n",
       "       'IN_DEFICIT_ATENCAO', 'IN_DISLEXIA', 'IN_DISCALCULIA',\n",
       "       'IN_AUTISMO', 'IN_VISAO_MONOCULAR', 'IN_OUTRA_DEF', 'IN_GESTANTE',\n",
       "       'IN_LACTANTE', 'IN_IDOSO', 'IN_ESTUDA_CLASSE_HOSPITALAR',\n",
       "       'IN_SEM_RECURSO', 'IN_BRAILLE', 'IN_AMPLIADA_24', 'IN_AMPLIADA_18',\n",
       "       'IN_LEDOR', 'IN_ACESSO', 'IN_TRANSCRICAO', 'IN_LIBRAS',\n",
       "       'IN_LEITURA_LABIAL', 'IN_MESA_CADEIRA_RODAS',\n",
       "       'IN_MESA_CADEIRA_SEPARADA', 'IN_APOIO_PERNA', 'IN_GUIA_INTERPRETE',\n",
       "       'IN_COMPUTADOR', 'IN_CADEIRA_ESPECIAL', 'IN_CADEIRA_CANHOTO',\n",
       "       'IN_CADEIRA_ACOLCHOADA', 'IN_PROVA_DEITADO', 'IN_MOBILIARIO_OBESO',\n",
       "       'IN_LAMINA_OVERLAY', 'IN_PROTETOR_AURICULAR', 'IN_MEDIDOR_GLICOSE',\n",
       "       'IN_MAQUINA_BRAILE', 'IN_SOROBAN', 'IN_MARCA_PASSO', 'IN_SONDA',\n",
       "       'IN_MEDICAMENTOS', 'IN_SALA_INDIVIDUAL', 'IN_SALA_ESPECIAL',\n",
       "       'IN_SALA_ACOMPANHANTE', 'IN_MOBILIARIO_ESPECIFICO',\n",
       "       'IN_MATERIAL_ESPECIFICO', 'IN_NOME_SOCIAL', 'CO_MUNICIPIO_PROVA',\n",
       "       'NO_MUNICIPIO_PROVA', 'CO_UF_PROVA', 'SG_UF_PROVA',\n",
       "       'TP_PRESENCA_CN', 'TP_PRESENCA_CH', 'TP_PRESENCA_LC',\n",
       "       'TP_PRESENCA_MT', 'CO_PROVA_CN', 'CO_PROVA_CH', 'CO_PROVA_LC',\n",
       "       'CO_PROVA_MT', 'NU_NOTA_CN', 'NU_NOTA_CH', 'NU_NOTA_LC',\n",
       "       'NU_NOTA_MT', 'TX_RESPOSTAS_CN', 'TX_RESPOSTAS_CH',\n",
       "       'TX_RESPOSTAS_LC', 'TX_RESPOSTAS_MT', 'TP_LINGUA',\n",
       "       'TX_GABARITO_CN', 'TX_GABARITO_CH', 'TX_GABARITO_LC',\n",
       "       'TX_GABARITO_MT', 'TP_STATUS_REDACAO', 'NU_NOTA_COMP1',\n",
       "       'NU_NOTA_COMP2', 'NU_NOTA_COMP3', 'NU_NOTA_COMP4', 'NU_NOTA_COMP5',\n",
       "       'NU_NOTA_REDACAO', 'Q001', 'Q002', 'Q003', 'Q004', 'Q005', 'Q006',\n",
       "       'Q007', 'Q008', 'Q009', 'Q010', 'Q011', 'Q012', 'Q013', 'Q014',\n",
       "       'Q015', 'Q016', 'Q017', 'Q018', 'Q019', 'Q020', 'Q021', 'Q022',\n",
       "       'Q023', 'Q024', 'Q025', 'Q026', 'Q027'], dtype=object)"
      ]
     },
     "execution_count": 7,
     "metadata": {},
     "output_type": "execute_result"
    }
   ],
   "source": [
    "#Mostra as colunas\n",
    "microdadosEnem.columns.values"
   ]
  },
  {
   "cell_type": "code",
   "execution_count": 8,
   "metadata": {},
   "outputs": [],
   "source": [
    "#Atribui a uma variavel \n",
    "colunasSelecionadasENEM = ['NO_MUNICIPIO_RESIDENCIA', 'CO_UF_RESIDENCIA', 'SG_UF_RESIDENCIA',\n",
    "       'NU_IDADE', 'TP_SEXO', 'TP_ESTADO_CIVIL', 'TP_COR_RACA',\n",
    "       'TP_NACIONALIDADE', 'CO_MUNICIPIO_NASCIMENTO',\n",
    "       'NO_MUNICIPIO_NASCIMENTO', 'CO_UF_NASCIMENTO', 'SG_UF_NASCIMENTO',\n",
    "       'TP_ST_CONCLUSAO', 'TP_ANO_CONCLUIU', 'TP_ESCOLA', 'TP_ENSINO',\n",
    "       'IN_TREINEIRO', 'CO_ESCOLA', 'CO_MUNICIPIO_ESC',\n",
    "       'NO_MUNICIPIO_ESC', 'CO_UF_ESC', 'SG_UF_ESC',\n",
    "       'TP_DEPENDENCIA_ADM_ESC', 'TP_LOCALIZACAO_ESC', 'TP_SIT_FUNC_ESC',\n",
    "       'IN_BAIXA_VISAO', 'IN_CEGUEIRA', 'IN_SURDEZ',\n",
    "       'IN_DEFICIENCIA_AUDITIVA', 'IN_SURDO_CEGUEIRA',\n",
    "       'IN_DEFICIENCIA_FISICA', 'IN_DEFICIENCIA_MENTAL',\n",
    "       'IN_DEFICIT_ATENCAO', 'IN_DISLEXIA', 'IN_DISCALCULIA',\n",
    "       'IN_AUTISMO', 'IN_VISAO_MONOCULAR', 'IN_OUTRA_DEF', 'IN_GESTANTE',\n",
    "       'IN_LACTANTE', 'IN_IDOSO', 'IN_ESTUDA_CLASSE_HOSPITALAR',\n",
    "       'IN_SEM_RECURSO', 'IN_BRAILLE', 'IN_AMPLIADA_24', 'IN_AMPLIADA_18',\n",
    "       'IN_LEDOR', 'IN_ACESSO', 'IN_TRANSCRICAO', 'IN_LIBRAS',\n",
    "       'IN_LEITURA_LABIAL', 'IN_MESA_CADEIRA_RODAS',\n",
    "       'IN_MESA_CADEIRA_SEPARADA', 'IN_APOIO_PERNA', 'IN_GUIA_INTERPRETE',\n",
    "       'IN_COMPUTADOR', 'IN_CADEIRA_ESPECIAL', 'IN_CADEIRA_CANHOTO',\n",
    "       'IN_CADEIRA_ACOLCHOADA', 'IN_PROVA_DEITADO', 'IN_MOBILIARIO_OBESO',\n",
    "       'IN_LAMINA_OVERLAY', 'IN_PROTETOR_AURICULAR', 'IN_MEDIDOR_GLICOSE',\n",
    "       'IN_MAQUINA_BRAILE', 'IN_SOROBAN', 'IN_MARCA_PASSO', 'IN_SONDA',\n",
    "       'IN_MEDICAMENTOS', 'IN_SALA_INDIVIDUAL', 'IN_SALA_ESPECIAL',\n",
    "       'IN_SALA_ACOMPANHANTE', 'IN_MOBILIARIO_ESPECIFICO',\n",
    "       'IN_MATERIAL_ESPECIFICO', 'IN_NOME_SOCIAL', 'CO_MUNICIPIO_PROVA',\n",
    "       'NO_MUNICIPIO_PROVA', 'CO_UF_PROVA', 'SG_UF_PROVA',\n",
    "       'TP_PRESENCA_CN', 'TP_PRESENCA_CH', 'TP_PRESENCA_LC',\n",
    "       'TP_PRESENCA_MT', 'CO_PROVA_CN', 'CO_PROVA_CH', 'CO_PROVA_LC',\n",
    "       'CO_PROVA_MT', 'NU_NOTA_CN', 'NU_NOTA_CH', 'NU_NOTA_LC',\n",
    "       'NU_NOTA_MT', 'TX_RESPOSTAS_CN', 'TX_RESPOSTAS_CH',\n",
    "       'TX_RESPOSTAS_LC', 'TX_RESPOSTAS_MT', 'TP_LINGUA',\n",
    "       'TX_GABARITO_CN', 'TX_GABARITO_CH', 'TX_GABARITO_LC',\n",
    "       'TX_GABARITO_MT', 'TP_STATUS_REDACAO', 'NU_NOTA_COMP1',\n",
    "       'NU_NOTA_COMP2', 'NU_NOTA_COMP3', 'NU_NOTA_COMP4', 'NU_NOTA_COMP5',\n",
    "       'NU_NOTA_REDACAO', 'Q001', 'Q002', 'Q003', 'Q004', 'Q005', 'Q006',\n",
    "       'Q007', 'Q008', 'Q009', 'Q010', 'Q011', 'Q012', 'Q013', 'Q014',\n",
    "       'Q015', 'Q016', 'Q017', 'Q018', 'Q019', 'Q020', 'Q021', 'Q022',\n",
    "       'Q023', 'Q024', 'Q025', 'Q026', 'Q027']"
   ]
  },
  {
   "cell_type": "code",
   "execution_count": 9,
   "metadata": {},
   "outputs": [],
   "source": [
    "#Filtra as colunas\n",
    "microdadosEnemSelecionado = microdadosEnem.filter(items=colunasSelecionadasENEM)"
   ]
  },
  {
   "cell_type": "code",
   "execution_count": 10,
   "metadata": {
    "scrolled": true
   },
   "outputs": [
    {
     "data": {
      "text/html": [
       "<div>\n",
       "<style scoped>\n",
       "    .dataframe tbody tr th:only-of-type {\n",
       "        vertical-align: middle;\n",
       "    }\n",
       "\n",
       "    .dataframe tbody tr th {\n",
       "        vertical-align: top;\n",
       "    }\n",
       "\n",
       "    .dataframe thead th {\n",
       "        text-align: right;\n",
       "    }\n",
       "</style>\n",
       "<table border=\"1\" class=\"dataframe\">\n",
       "  <thead>\n",
       "    <tr style=\"text-align: right;\">\n",
       "      <th></th>\n",
       "      <th>NO_MUNICIPIO_RESIDENCIA</th>\n",
       "      <th>CO_UF_RESIDENCIA</th>\n",
       "      <th>SG_UF_RESIDENCIA</th>\n",
       "      <th>NU_IDADE</th>\n",
       "      <th>TP_SEXO</th>\n",
       "      <th>TP_ESTADO_CIVIL</th>\n",
       "      <th>TP_COR_RACA</th>\n",
       "      <th>TP_NACIONALIDADE</th>\n",
       "      <th>CO_MUNICIPIO_NASCIMENTO</th>\n",
       "      <th>NO_MUNICIPIO_NASCIMENTO</th>\n",
       "      <th>...</th>\n",
       "      <th>Q018</th>\n",
       "      <th>Q019</th>\n",
       "      <th>Q020</th>\n",
       "      <th>Q021</th>\n",
       "      <th>Q022</th>\n",
       "      <th>Q023</th>\n",
       "      <th>Q024</th>\n",
       "      <th>Q025</th>\n",
       "      <th>Q026</th>\n",
       "      <th>Q027</th>\n",
       "    </tr>\n",
       "  </thead>\n",
       "  <tbody>\n",
       "    <tr>\n",
       "      <th>0</th>\n",
       "      <td>Timon</td>\n",
       "      <td>21</td>\n",
       "      <td>MA</td>\n",
       "      <td>34.0</td>\n",
       "      <td>M</td>\n",
       "      <td>1.0</td>\n",
       "      <td>1</td>\n",
       "      <td>1</td>\n",
       "      <td>2207702.0</td>\n",
       "      <td>Parnaíba</td>\n",
       "      <td>...</td>\n",
       "      <td>A</td>\n",
       "      <td>B</td>\n",
       "      <td>A</td>\n",
       "      <td>A</td>\n",
       "      <td>C</td>\n",
       "      <td>A</td>\n",
       "      <td>B</td>\n",
       "      <td>B</td>\n",
       "      <td>A</td>\n",
       "      <td>A</td>\n",
       "    </tr>\n",
       "    <tr>\n",
       "      <th>1</th>\n",
       "      <td>Votuporanga</td>\n",
       "      <td>35</td>\n",
       "      <td>SP</td>\n",
       "      <td>14.0</td>\n",
       "      <td>M</td>\n",
       "      <td>0.0</td>\n",
       "      <td>1</td>\n",
       "      <td>1</td>\n",
       "      <td>3557105.0</td>\n",
       "      <td>Votuporanga</td>\n",
       "      <td>...</td>\n",
       "      <td>A</td>\n",
       "      <td>C</td>\n",
       "      <td>A</td>\n",
       "      <td>B</td>\n",
       "      <td>E</td>\n",
       "      <td>B</td>\n",
       "      <td>D</td>\n",
       "      <td>B</td>\n",
       "      <td>D</td>\n",
       "      <td>D</td>\n",
       "    </tr>\n",
       "    <tr>\n",
       "      <th>2</th>\n",
       "      <td>Guarabira</td>\n",
       "      <td>25</td>\n",
       "      <td>PB</td>\n",
       "      <td>20.0</td>\n",
       "      <td>F</td>\n",
       "      <td>0.0</td>\n",
       "      <td>2</td>\n",
       "      <td>1</td>\n",
       "      <td>2506301.0</td>\n",
       "      <td>Guarabira</td>\n",
       "      <td>...</td>\n",
       "      <td>A</td>\n",
       "      <td>B</td>\n",
       "      <td>A</td>\n",
       "      <td>A</td>\n",
       "      <td>D</td>\n",
       "      <td>A</td>\n",
       "      <td>B</td>\n",
       "      <td>B</td>\n",
       "      <td>A</td>\n",
       "      <td>E</td>\n",
       "    </tr>\n",
       "    <tr>\n",
       "      <th>3</th>\n",
       "      <td>Ouro Verde</td>\n",
       "      <td>35</td>\n",
       "      <td>SP</td>\n",
       "      <td>17.0</td>\n",
       "      <td>F</td>\n",
       "      <td>0.0</td>\n",
       "      <td>2</td>\n",
       "      <td>1</td>\n",
       "      <td>3514403.0</td>\n",
       "      <td>Dracena</td>\n",
       "      <td>...</td>\n",
       "      <td>A</td>\n",
       "      <td>B</td>\n",
       "      <td>A</td>\n",
       "      <td>A</td>\n",
       "      <td>E</td>\n",
       "      <td>A</td>\n",
       "      <td>A</td>\n",
       "      <td>A</td>\n",
       "      <td>B</td>\n",
       "      <td>A</td>\n",
       "    </tr>\n",
       "    <tr>\n",
       "      <th>4</th>\n",
       "      <td>Itaquaquecetuba</td>\n",
       "      <td>35</td>\n",
       "      <td>SP</td>\n",
       "      <td>19.0</td>\n",
       "      <td>M</td>\n",
       "      <td>0.0</td>\n",
       "      <td>3</td>\n",
       "      <td>1</td>\n",
       "      <td>3550308.0</td>\n",
       "      <td>São Paulo</td>\n",
       "      <td>...</td>\n",
       "      <td>A</td>\n",
       "      <td>B</td>\n",
       "      <td>A</td>\n",
       "      <td>A</td>\n",
       "      <td>D</td>\n",
       "      <td>B</td>\n",
       "      <td>B</td>\n",
       "      <td>B</td>\n",
       "      <td>A</td>\n",
       "      <td>A</td>\n",
       "    </tr>\n",
       "  </tbody>\n",
       "</table>\n",
       "<p>5 rows × 134 columns</p>\n",
       "</div>"
      ],
      "text/plain": [
       "  NO_MUNICIPIO_RESIDENCIA  CO_UF_RESIDENCIA SG_UF_RESIDENCIA  NU_IDADE  \\\n",
       "0                   Timon                21               MA      34.0   \n",
       "1             Votuporanga                35               SP      14.0   \n",
       "2               Guarabira                25               PB      20.0   \n",
       "3              Ouro Verde                35               SP      17.0   \n",
       "4         Itaquaquecetuba                35               SP      19.0   \n",
       "\n",
       "  TP_SEXO  TP_ESTADO_CIVIL  TP_COR_RACA  TP_NACIONALIDADE  \\\n",
       "0       M              1.0            1                 1   \n",
       "1       M              0.0            1                 1   \n",
       "2       F              0.0            2                 1   \n",
       "3       F              0.0            2                 1   \n",
       "4       M              0.0            3                 1   \n",
       "\n",
       "   CO_MUNICIPIO_NASCIMENTO NO_MUNICIPIO_NASCIMENTO  ...  Q018 Q019  Q020  \\\n",
       "0                2207702.0                Parnaíba  ...     A    B     A   \n",
       "1                3557105.0             Votuporanga  ...     A    C     A   \n",
       "2                2506301.0               Guarabira  ...     A    B     A   \n",
       "3                3514403.0                 Dracena  ...     A    B     A   \n",
       "4                3550308.0               São Paulo  ...     A    B     A   \n",
       "\n",
       "   Q021  Q022  Q023  Q024  Q025  Q026 Q027  \n",
       "0     A     C     A     B     B     A    A  \n",
       "1     B     E     B     D     B     D    D  \n",
       "2     A     D     A     B     B     A    E  \n",
       "3     A     E     A     A     A     B    A  \n",
       "4     A     D     B     B     B     A    A  \n",
       "\n",
       "[5 rows x 134 columns]"
      ]
     },
     "execution_count": 10,
     "metadata": {},
     "output_type": "execute_result"
    }
   ],
   "source": [
    "#Mostra os 5 primeiros registros do arquivo filtrado\n",
    "microdadosEnemSelecionado.head()"
   ]
  },
  {
   "cell_type": "code",
   "execution_count": null,
   "metadata": {},
   "outputs": [],
   "source": [
    "#Para fins didático pode ser usado o comando para limitar o número de linhas\n",
    "microdadosEnem = microdadosEnem[0:100]"
   ]
  },
  {
   "cell_type": "code",
   "execution_count": 11,
   "metadata": {},
   "outputs": [],
   "source": [
    "#Selecionar apenas dados de uma coluna\n",
    "coluna_no_municipio_residencia = microdadosEnem['NO_MUNICIPIO_RESIDENCIA']"
   ]
  },
  {
   "cell_type": "code",
   "execution_count": 12,
   "metadata": {},
   "outputs": [
    {
     "data": {
      "text/plain": [
       "0                   Timon\n",
       "1             Votuporanga\n",
       "2               Guarabira\n",
       "3              Ouro Verde\n",
       "4         Itaquaquecetuba\n",
       "               ...       \n",
       "137839            Biguaçu\n",
       "137840           São Luís\n",
       "137841      Queimada Nova\n",
       "137842            Propriá\n",
       "137843             Recife\n",
       "Name: NO_MUNICIPIO_RESIDENCIA, Length: 137844, dtype: object"
      ]
     },
     "execution_count": 12,
     "metadata": {},
     "output_type": "execute_result"
    }
   ],
   "source": [
    "#Mostra os indices e os municipios\n",
    "coluna_no_municipio_residencia"
   ]
  },
  {
   "cell_type": "code",
   "execution_count": 13,
   "metadata": {},
   "outputs": [
    {
     "data": {
      "text/plain": [
       "São Paulo           6599\n",
       "Rio de Janeiro      3720\n",
       "Fortaleza           2726\n",
       "Brasília            2618\n",
       "Salvador            2375\n",
       "                    ... \n",
       "Ibema                  1\n",
       "Araguaiana             1\n",
       "Bom Jesus do Sul       1\n",
       "Virgolândia            1\n",
       "Santa Tereza           1\n",
       "Name: NO_MUNICIPIO_RESIDENCIA, Length: 4953, dtype: int64"
      ]
     },
     "execution_count": 13,
     "metadata": {},
     "output_type": "execute_result"
    }
   ],
   "source": [
    "#Conta as repetições dos municipios\n",
    "coluna_no_municipio_residencia.value_counts()"
   ]
  },
  {
   "cell_type": "code",
   "execution_count": 14,
   "metadata": {},
   "outputs": [
    {
     "data": {
      "text/plain": [
       "Abadia de Goiás          5\n",
       "Abadia dos Dourados      2\n",
       "Abadiânia                6\n",
       "Abaetetuba             159\n",
       "Abaeté                  12\n",
       "                      ... \n",
       "Áurea                    1\n",
       "Ângulo                   2\n",
       "Érico Cardoso            4\n",
       "Óbidos                  28\n",
       "Óleo                     1\n",
       "Name: NO_MUNICIPIO_RESIDENCIA, Length: 4953, dtype: int64"
      ]
     },
     "execution_count": 14,
     "metadata": {},
     "output_type": "execute_result"
    }
   ],
   "source": [
    "#Conta as repetições desse municipio e ordena alfabeticamente\n",
    "coluna_no_municipio_residencia.value_counts().sort_index()"
   ]
  },
  {
   "cell_type": "code",
   "execution_count": 15,
   "metadata": {},
   "outputs": [],
   "source": [
    "#Seleciona apenas a coluna nu_idade\n",
    "coluna_nu_idade = microdadosEnemSelecionado['NU_IDADE']"
   ]
  },
  {
   "cell_type": "code",
   "execution_count": 16,
   "metadata": {},
   "outputs": [
    {
     "data": {
      "text/plain": [
       "0         34.0\n",
       "1         14.0\n",
       "2         20.0\n",
       "3         17.0\n",
       "4         19.0\n",
       "          ... \n",
       "137839    21.0\n",
       "137840    22.0\n",
       "137841    18.0\n",
       "137842    28.0\n",
       "137843    25.0\n",
       "Name: NU_IDADE, Length: 137844, dtype: float64"
      ]
     },
     "execution_count": 16,
     "metadata": {},
     "output_type": "execute_result"
    }
   ],
   "source": [
    "#Mostra todas as idades e os indices de cada uma\n",
    "coluna_nu_idade"
   ]
  },
  {
   "cell_type": "code",
   "execution_count": 17,
   "metadata": {},
   "outputs": [
    {
     "data": {
      "text/plain": [
       "18.0    23395\n",
       "17.0    21793\n",
       "19.0    15326\n",
       "20.0    10670\n",
       "21.0     8167\n",
       "        ...  \n",
       "70.0        2\n",
       "77.0        2\n",
       "74.0        1\n",
       "78.0        1\n",
       "76.0        1\n",
       "Name: NU_IDADE, Length: 65, dtype: int64"
      ]
     },
     "execution_count": 17,
     "metadata": {},
     "output_type": "execute_result"
    }
   ],
   "source": [
    "#Mostra a distribuição de idades e seus quantitativos\n",
    "coluna_nu_idade.value_counts()"
   ]
  },
  {
   "cell_type": "code",
   "execution_count": 18,
   "metadata": {
    "scrolled": true
   },
   "outputs": [
    {
     "data": {
      "text/plain": [
       "13.0        4\n",
       "14.0      140\n",
       "15.0     1953\n",
       "16.0     7706\n",
       "17.0    21793\n",
       "        ...  \n",
       "73.0        5\n",
       "74.0        1\n",
       "76.0        1\n",
       "77.0        2\n",
       "78.0        1\n",
       "Name: NU_IDADE, Length: 65, dtype: int64"
      ]
     },
     "execution_count": 18,
     "metadata": {},
     "output_type": "execute_result"
    }
   ],
   "source": [
    "#Mostra as idades e seus quantitativos ordenados pela idade\n",
    "coluna_nu_idade.value_counts().sort_index()"
   ]
  },
  {
   "cell_type": "code",
   "execution_count": 19,
   "metadata": {},
   "outputs": [
    {
     "data": {
      "text/plain": [
       "<AxesSubplot:>"
      ]
     },
     "execution_count": 19,
     "metadata": {},
     "output_type": "execute_result"
    },
    {
     "data": {
      "image/png": "[encoded data removed]",
      "text/plain": [
       "<Figure size 432x288 with 1 Axes>"
      ]
     },
     "metadata": {
      "needs_background": "light"
     },
     "output_type": "display_data"
    }
   ],
   "source": [
    "# Fazer um histograma pelo Matplotlib\n",
    "# his é de histogram do qual tem um parametro\n",
    "# Para aumentar a distribuicao de barras basta usar bins\n",
    "coluna_nu_idade.hist(bins=30)"
   ]
  },
  {
   "cell_type": "code",
   "execution_count": 46,
   "metadata": {},
   "outputs": [],
   "source": [
    "# ========================================================\n"
   ]
  },
  {
   "cell_type": "markdown",
   "metadata": {},
   "source": [
    "# Quantitativo de inscritos por estado"
   ]
  },
  {
   "cell_type": "code",
   "execution_count": 56,
   "metadata": {},
   "outputs": [],
   "source": [
    "#Seleciona apenas a tabela dos UFs\n",
    "coluna_sg_uf_residencia = microdadosEnemSelecionado['SG_UF_RESIDENCIA']"
   ]
  },
  {
   "cell_type": "code",
   "execution_count": 57,
   "metadata": {},
   "outputs": [
    {
     "data": {
      "text/plain": [
       "SP    23299\n",
       "MG    14615\n",
       "BA    10199\n",
       "RJ     9583\n",
       "CE     8255\n",
       "PE     7571\n",
       "PA     7007\n",
       "RS     6177\n",
       "PR     5821\n",
       "MA     5441\n",
       "GO     4822\n",
       "PB     3846\n",
       "SC     3102\n",
       "RN     3088\n",
       "AM     3085\n",
       "PI     2910\n",
       "ES     2786\n",
       "DF     2618\n",
       "MT     2447\n",
       "AL     2213\n",
       "MS     1889\n",
       "SE     1849\n",
       "RO     1554\n",
       "TO     1354\n",
       "AC      996\n",
       "AP      957\n",
       "RR      360\n",
       "Name: SG_UF_RESIDENCIA, dtype: int64"
      ]
     },
     "execution_count": 57,
     "metadata": {},
     "output_type": "execute_result"
    }
   ],
   "source": [
    "#É como se fosse um count com distinct\n",
    "coluna_sg_uf_residencia.value_counts()"
   ]
  },
  {
   "cell_type": "code",
   "execution_count": 59,
   "metadata": {},
   "outputs": [
    {
     "data": {
      "text/plain": [
       "<AxesSubplot:>"
      ]
     },
     "execution_count": 59,
     "metadata": {},
     "output_type": "execute_result"
    },
    {
     "data": {
      "image/png": "[encoded data removed]",
      "text/plain": [
       "<Figure size 432x288 with 1 Axes>"
      ]
     },
     "metadata": {
      "needs_background": "light"
     },
     "output_type": "display_data"
    }
   ],
   "source": [
    "coluna_sg_uf_residencia.hist(bins=27)"
   ]
  },
  {
   "cell_type": "code",
   "execution_count": null,
   "metadata": {},
   "outputs": [],
   "source": [
    "#========================================================"
   ]
  },
  {
   "cell_type": "markdown",
   "metadata": {},
   "source": [
    "# Quantidade de Gestantes no ENEM"
   ]
  },
  {
   "cell_type": "code",
   "execution_count": 20,
   "metadata": {},
   "outputs": [],
   "source": [
    "#Seleciona a coluna de gestantes\n",
    "gestantesENEM = microdadosEnemSelecionado['IN_GESTANTE']"
   ]
  },
  {
   "cell_type": "code",
   "execution_count": 21,
   "metadata": {},
   "outputs": [
    {
     "data": {
      "text/plain": [
       "0    137793\n",
       "1        51\n",
       "Name: IN_GESTANTE, dtype: int64"
      ]
     },
     "execution_count": 21,
     "metadata": {},
     "output_type": "execute_result"
    }
   ],
   "source": [
    "#Mostra se a pessoa é gestante ou não é gestante\n",
    "gestantesENEM.value_counts()"
   ]
  },
  {
   "cell_type": "code",
   "execution_count": 22,
   "metadata": {},
   "outputs": [],
   "source": [
    "#Armazena os totais de count dentro de uma variavel\n",
    "distInGestante = gestantesENEM.value_counts()"
   ]
  },
  {
   "cell_type": "code",
   "execution_count": 23,
   "metadata": {},
   "outputs": [
    {
     "data": {
      "text/plain": [
       "0    137793\n",
       "1        51\n",
       "Name: IN_GESTANTE, dtype: int64"
      ]
     },
     "execution_count": 23,
     "metadata": {},
     "output_type": "execute_result"
    }
   ],
   "source": [
    "#Mostra o valor da variavel\n",
    "distInGestante"
   ]
  },
  {
   "cell_type": "code",
   "execution_count": 24,
   "metadata": {},
   "outputs": [],
   "source": [
    "#Este conteito de compreensão de listas do python para\n",
    "percentInGestante = [100*x/distInGestante.sum() for x in distInGestante]"
   ]
  },
  {
   "cell_type": "code",
   "execution_count": 27,
   "metadata": {},
   "outputs": [
    {
     "data": {
      "text/plain": [
       "[99.96300165404371, 0.036998345956298424]"
      ]
     },
     "execution_count": 27,
     "metadata": {},
     "output_type": "execute_result"
    }
   ],
   "source": [
    "#Mostra a relação de candidatas gestantes em relação aos demais candidatos\n",
    "percentInGestante"
   ]
  },
  {
   "cell_type": "code",
   "execution_count": null,
   "metadata": {},
   "outputs": [],
   "source": [
    "#======================================================"
   ]
  },
  {
   "cell_type": "code",
   "execution_count": 30,
   "metadata": {},
   "outputs": [],
   "source": [
    "#Seleciona a coluna sexo (genero da pessoa)\n",
    "coluna_tp_sexo = microdadosEnemSelecionado['TP_SEXO']"
   ]
  },
  {
   "cell_type": "code",
   "execution_count": 31,
   "metadata": {},
   "outputs": [],
   "source": [
    "#Armazena em uma variavel o quantitativo de candidatas gestantes ou não\n",
    "distTpSexo = coluna_tp_sexo.value_counts()"
   ]
  },
  {
   "cell_type": "code",
   "execution_count": 32,
   "metadata": {},
   "outputs": [
    {
     "data": {
      "text/plain": [
       "F    81760\n",
       "M    56084\n",
       "Name: TP_SEXO, dtype: int64"
      ]
     },
     "execution_count": 32,
     "metadata": {},
     "output_type": "execute_result"
    }
   ],
   "source": [
    "#Mostra a quantidade de candidatas e candidatos\n",
    "distTpSexo"
   ]
  },
  {
   "cell_type": "code",
   "execution_count": 33,
   "metadata": {},
   "outputs": [],
   "source": [
    "#Realiza o calculo de porcentagem e armazena em uma variavel\n",
    "percentTpSexo = [100*x/distTpSexo.sum() for x in distTpSexo]"
   ]
  },
  {
   "cell_type": "code",
   "execution_count": 34,
   "metadata": {
    "scrolled": true
   },
   "outputs": [
    {
     "data": {
      "text/plain": [
       "[59.31342677229332, 40.68657322770668]"
      ]
     },
     "execution_count": 34,
     "metadata": {},
     "output_type": "execute_result"
    }
   ],
   "source": [
    "#Mostra a relação de meninas e meninos no ENEM, sendo 59.31 se considerando do sexo feminino \n",
    "percentTpSexo"
   ]
  },
  {
   "cell_type": "code",
   "execution_count": 84,
   "metadata": {},
   "outputs": [],
   "source": [
    "#Pega a quantidade de meninas do ENEM\n",
    "sexoFeminino = distTpSexo[0]"
   ]
  },
  {
   "cell_type": "code",
   "execution_count": 85,
   "metadata": {},
   "outputs": [],
   "source": [
    "#Pega a quantidade de gestantes\n",
    "nu_gestante = distInGestante[1]"
   ]
  },
  {
   "cell_type": "code",
   "execution_count": 86,
   "metadata": {},
   "outputs": [
    {
     "data": {
      "text/plain": [
       "81760"
      ]
     },
     "execution_count": 86,
     "metadata": {},
     "output_type": "execute_result"
    }
   ],
   "source": [
    "#Mostra a quantidade de meninas no ENEM\n",
    "sexoFeminino"
   ]
  },
  {
   "cell_type": "code",
   "execution_count": 87,
   "metadata": {},
   "outputs": [
    {
     "data": {
      "text/plain": [
       "51"
      ]
     },
     "execution_count": 87,
     "metadata": {},
     "output_type": "execute_result"
    }
   ],
   "source": [
    "#Mostra a quantidade de gestantes no ENEM\n",
    "nu_gestante"
   ]
  },
  {
   "cell_type": "code",
   "execution_count": 88,
   "metadata": {},
   "outputs": [],
   "source": [
    "#Calcula a porcentagem de meninas gestantes no ENEM\n",
    "percentGestantes = 100*nu_gestante/sexoFeminino"
   ]
  },
  {
   "cell_type": "code",
   "execution_count": 90,
   "metadata": {},
   "outputs": [],
   "source": [
    "#Subtrai o percentual das gestantes em relação a 100 para obter as não gestantes\n",
    "percentNaoGestantes = 100 - percentGestantes"
   ]
  },
  {
   "cell_type": "code",
   "execution_count": 89,
   "metadata": {},
   "outputs": [
    {
     "data": {
      "text/plain": [
       "0.06237769080234833"
      ]
     },
     "execution_count": 89,
     "metadata": {},
     "output_type": "execute_result"
    }
   ],
   "source": [
    "#Mostra a porcentagem de meninas gestantes no ENEM em relação as não gestantes\n",
    "percentGestantes"
   ]
  },
  {
   "cell_type": "code",
   "execution_count": 91,
   "metadata": {},
   "outputs": [
    {
     "data": {
      "text/plain": [
       "99.93762230919765"
      ]
     },
     "execution_count": 91,
     "metadata": {},
     "output_type": "execute_result"
    }
   ],
   "source": [
    "#Percentual de candidatas do ENEM que não são gestantes\n",
    "percentNaoGestantes"
   ]
  },
  {
   "cell_type": "markdown",
   "metadata": {},
   "source": [
    "# Desempenho na redação por genero"
   ]
  },
  {
   "cell_type": "code",
   "execution_count": 92,
   "metadata": {},
   "outputs": [],
   "source": [
    "#Armazena numa variavel o nome das colunas que deseja ser selecionada\n",
    "colunasSelecionadas = ['TP_SEXO','NU_NOTA_REDACAO']"
   ]
  },
  {
   "cell_type": "code",
   "execution_count": 102,
   "metadata": {},
   "outputs": [],
   "source": [
    "#Armazena numa variavel as colunas selecionadas\n",
    "microdadosEnemSexoRedacao = microdadosEnem.filter(items=colunasSelecionadas)"
   ]
  },
  {
   "cell_type": "code",
   "execution_count": 103,
   "metadata": {
    "scrolled": true
   },
   "outputs": [
    {
     "data": {
      "text/html": [
       "<div>\n",
       "<style scoped>\n",
       "    .dataframe tbody tr th:only-of-type {\n",
       "        vertical-align: middle;\n",
       "    }\n",
       "\n",
       "    .dataframe tbody tr th {\n",
       "        vertical-align: top;\n",
       "    }\n",
       "\n",
       "    .dataframe thead th {\n",
       "        text-align: right;\n",
       "    }\n",
       "</style>\n",
       "<table border=\"1\" class=\"dataframe\">\n",
       "  <thead>\n",
       "    <tr style=\"text-align: right;\">\n",
       "      <th></th>\n",
       "      <th>TP_SEXO</th>\n",
       "      <th>NU_NOTA_REDACAO</th>\n",
       "    </tr>\n",
       "  </thead>\n",
       "  <tbody>\n",
       "    <tr>\n",
       "      <th>0</th>\n",
       "      <td>M</td>\n",
       "      <td>NaN</td>\n",
       "    </tr>\n",
       "    <tr>\n",
       "      <th>1</th>\n",
       "      <td>M</td>\n",
       "      <td>680.0</td>\n",
       "    </tr>\n",
       "    <tr>\n",
       "      <th>2</th>\n",
       "      <td>F</td>\n",
       "      <td>600.0</td>\n",
       "    </tr>\n",
       "    <tr>\n",
       "      <th>3</th>\n",
       "      <td>F</td>\n",
       "      <td>400.0</td>\n",
       "    </tr>\n",
       "    <tr>\n",
       "      <th>4</th>\n",
       "      <td>M</td>\n",
       "      <td>NaN</td>\n",
       "    </tr>\n",
       "  </tbody>\n",
       "</table>\n",
       "</div>"
      ],
      "text/plain": [
       "  TP_SEXO  NU_NOTA_REDACAO\n",
       "0       M              NaN\n",
       "1       M            680.0\n",
       "2       F            600.0\n",
       "3       F            400.0\n",
       "4       M              NaN"
      ]
     },
     "execution_count": 103,
     "metadata": {},
     "output_type": "execute_result"
    }
   ],
   "source": [
    "#Permite visualizar os registros desse novo DateFrame\n",
    "#OBSERVAÇÃO: É possível observar valores nulos na coluna de redação\n",
    "microdadosEnemSexoRedacao.head()"
   ]
  },
  {
   "cell_type": "code",
   "execution_count": 104,
   "metadata": {},
   "outputs": [],
   "source": [
    "#O método dropna() ele exclui os registros que estejam nulos\n",
    "microdadosEnemSexoRedacao = microdadosEnemSexoRedacao.dropna()"
   ]
  },
  {
   "cell_type": "code",
   "execution_count": 106,
   "metadata": {},
   "outputs": [
    {
     "data": {
      "text/html": [
       "<div>\n",
       "<style scoped>\n",
       "    .dataframe tbody tr th:only-of-type {\n",
       "        vertical-align: middle;\n",
       "    }\n",
       "\n",
       "    .dataframe tbody tr th {\n",
       "        vertical-align: top;\n",
       "    }\n",
       "\n",
       "    .dataframe thead th {\n",
       "        text-align: right;\n",
       "    }\n",
       "</style>\n",
       "<table border=\"1\" class=\"dataframe\">\n",
       "  <thead>\n",
       "    <tr style=\"text-align: right;\">\n",
       "      <th></th>\n",
       "      <th>TP_SEXO</th>\n",
       "      <th>NU_NOTA_REDACAO</th>\n",
       "    </tr>\n",
       "  </thead>\n",
       "  <tbody>\n",
       "    <tr>\n",
       "      <th>1</th>\n",
       "      <td>M</td>\n",
       "      <td>680.0</td>\n",
       "    </tr>\n",
       "    <tr>\n",
       "      <th>2</th>\n",
       "      <td>F</td>\n",
       "      <td>600.0</td>\n",
       "    </tr>\n",
       "    <tr>\n",
       "      <th>3</th>\n",
       "      <td>F</td>\n",
       "      <td>400.0</td>\n",
       "    </tr>\n",
       "    <tr>\n",
       "      <th>6</th>\n",
       "      <td>F</td>\n",
       "      <td>560.0</td>\n",
       "    </tr>\n",
       "    <tr>\n",
       "      <th>8</th>\n",
       "      <td>F</td>\n",
       "      <td>660.0</td>\n",
       "    </tr>\n",
       "  </tbody>\n",
       "</table>\n",
       "</div>"
      ],
      "text/plain": [
       "  TP_SEXO  NU_NOTA_REDACAO\n",
       "1       M            680.0\n",
       "2       F            600.0\n",
       "3       F            400.0\n",
       "6       F            560.0\n",
       "8       F            660.0"
      ]
     },
     "execution_count": 106,
     "metadata": {},
     "output_type": "execute_result"
    }
   ],
   "source": [
    "#Mostra novamente o dataframe sem os nulos\n",
    "microdadosEnemSexoRedacao.head()"
   ]
  },
  {
   "cell_type": "code",
   "execution_count": 107,
   "metadata": {},
   "outputs": [
    {
     "data": {
      "text/html": [
       "<div>\n",
       "<style scoped>\n",
       "    .dataframe tbody tr th:only-of-type {\n",
       "        vertical-align: middle;\n",
       "    }\n",
       "\n",
       "    .dataframe tbody tr th {\n",
       "        vertical-align: top;\n",
       "    }\n",
       "\n",
       "    .dataframe thead th {\n",
       "        text-align: right;\n",
       "    }\n",
       "</style>\n",
       "<table border=\"1\" class=\"dataframe\">\n",
       "  <thead>\n",
       "    <tr style=\"text-align: right;\">\n",
       "      <th></th>\n",
       "      <th>NU_NOTA_REDACAO</th>\n",
       "    </tr>\n",
       "    <tr>\n",
       "      <th>TP_SEXO</th>\n",
       "      <th></th>\n",
       "    </tr>\n",
       "  </thead>\n",
       "  <tbody>\n",
       "    <tr>\n",
       "      <th>F</th>\n",
       "      <td>61764</td>\n",
       "    </tr>\n",
       "    <tr>\n",
       "      <th>M</th>\n",
       "      <td>42010</td>\n",
       "    </tr>\n",
       "  </tbody>\n",
       "</table>\n",
       "</div>"
      ],
      "text/plain": [
       "         NU_NOTA_REDACAO\n",
       "TP_SEXO                 \n",
       "F                  61764\n",
       "M                  42010"
      ]
     },
     "execution_count": 107,
     "metadata": {},
     "output_type": "execute_result"
    }
   ],
   "source": [
    "#Mostra a distribuição por genero que realizaram a redação\n",
    "microdadosEnemSexoRedacao.groupby('TP_SEXO').count()"
   ]
  },
  {
   "cell_type": "code",
   "execution_count": 108,
   "metadata": {},
   "outputs": [
    {
     "data": {
      "text/html": [
       "<div>\n",
       "<style scoped>\n",
       "    .dataframe tbody tr th:only-of-type {\n",
       "        vertical-align: middle;\n",
       "    }\n",
       "\n",
       "    .dataframe tbody tr th {\n",
       "        vertical-align: top;\n",
       "    }\n",
       "\n",
       "    .dataframe thead th {\n",
       "        text-align: right;\n",
       "    }\n",
       "</style>\n",
       "<table border=\"1\" class=\"dataframe\">\n",
       "  <thead>\n",
       "    <tr style=\"text-align: right;\">\n",
       "      <th></th>\n",
       "      <th>NU_NOTA_REDACAO</th>\n",
       "    </tr>\n",
       "    <tr>\n",
       "      <th>TP_SEXO</th>\n",
       "      <th></th>\n",
       "    </tr>\n",
       "  </thead>\n",
       "  <tbody>\n",
       "    <tr>\n",
       "      <th>F</th>\n",
       "      <td>1000.0</td>\n",
       "    </tr>\n",
       "    <tr>\n",
       "      <th>M</th>\n",
       "      <td>980.0</td>\n",
       "    </tr>\n",
       "  </tbody>\n",
       "</table>\n",
       "</div>"
      ],
      "text/plain": [
       "         NU_NOTA_REDACAO\n",
       "TP_SEXO                 \n",
       "F                 1000.0\n",
       "M                  980.0"
      ]
     },
     "execution_count": 108,
     "metadata": {},
     "output_type": "execute_result"
    }
   ],
   "source": [
    "#Mostra a nota maxima por genero\n",
    "microdadosEnemSexoRedacao.groupby('TP_SEXO').max()"
   ]
  },
  {
   "cell_type": "code",
   "execution_count": 109,
   "metadata": {},
   "outputs": [
    {
     "data": {
      "text/html": [
       "<div>\n",
       "<style scoped>\n",
       "    .dataframe tbody tr th:only-of-type {\n",
       "        vertical-align: middle;\n",
       "    }\n",
       "\n",
       "    .dataframe tbody tr th {\n",
       "        vertical-align: top;\n",
       "    }\n",
       "\n",
       "    .dataframe thead th {\n",
       "        text-align: right;\n",
       "    }\n",
       "</style>\n",
       "<table border=\"1\" class=\"dataframe\">\n",
       "  <thead>\n",
       "    <tr style=\"text-align: right;\">\n",
       "      <th></th>\n",
       "      <th>NU_NOTA_REDACAO</th>\n",
       "    </tr>\n",
       "    <tr>\n",
       "      <th>TP_SEXO</th>\n",
       "      <th></th>\n",
       "    </tr>\n",
       "  </thead>\n",
       "  <tbody>\n",
       "    <tr>\n",
       "      <th>F</th>\n",
       "      <td>0.0</td>\n",
       "    </tr>\n",
       "    <tr>\n",
       "      <th>M</th>\n",
       "      <td>0.0</td>\n",
       "    </tr>\n",
       "  </tbody>\n",
       "</table>\n",
       "</div>"
      ],
      "text/plain": [
       "         NU_NOTA_REDACAO\n",
       "TP_SEXO                 \n",
       "F                    0.0\n",
       "M                    0.0"
      ]
     },
     "execution_count": 109,
     "metadata": {},
     "output_type": "execute_result"
    }
   ],
   "source": [
    "#Mostra a nota minima por genero\n",
    "microdadosEnemSexoRedacao.groupby('TP_SEXO').min()"
   ]
  },
  {
   "cell_type": "code",
   "execution_count": 110,
   "metadata": {},
   "outputs": [
    {
     "data": {
      "text/html": [
       "<div>\n",
       "<style scoped>\n",
       "    .dataframe tbody tr th:only-of-type {\n",
       "        vertical-align: middle;\n",
       "    }\n",
       "\n",
       "    .dataframe tbody tr th {\n",
       "        vertical-align: top;\n",
       "    }\n",
       "\n",
       "    .dataframe thead th {\n",
       "        text-align: right;\n",
       "    }\n",
       "</style>\n",
       "<table border=\"1\" class=\"dataframe\">\n",
       "  <thead>\n",
       "    <tr style=\"text-align: right;\">\n",
       "      <th></th>\n",
       "      <th>NU_NOTA_REDACAO</th>\n",
       "    </tr>\n",
       "    <tr>\n",
       "      <th>TP_SEXO</th>\n",
       "      <th></th>\n",
       "    </tr>\n",
       "  </thead>\n",
       "  <tbody>\n",
       "    <tr>\n",
       "      <th>F</th>\n",
       "      <td>80.0</td>\n",
       "    </tr>\n",
       "    <tr>\n",
       "      <th>M</th>\n",
       "      <td>40.0</td>\n",
       "    </tr>\n",
       "  </tbody>\n",
       "</table>\n",
       "</div>"
      ],
      "text/plain": [
       "         NU_NOTA_REDACAO\n",
       "TP_SEXO                 \n",
       "F                   80.0\n",
       "M                   40.0"
      ]
     },
     "execution_count": 110,
     "metadata": {},
     "output_type": "execute_result"
    }
   ],
   "source": [
    "#Mostra a nota minima diferente de zero por genero\n",
    "microdadosEnemSexoRedacao[microdadosEnemSexoRedacao.NU_NOTA_REDACAO > 0].groupby('TP_SEXO').min()"
   ]
  },
  {
   "cell_type": "code",
   "execution_count": 111,
   "metadata": {},
   "outputs": [
    {
     "data": {
      "text/html": [
       "<div>\n",
       "<style scoped>\n",
       "    .dataframe tbody tr th:only-of-type {\n",
       "        vertical-align: middle;\n",
       "    }\n",
       "\n",
       "    .dataframe tbody tr th {\n",
       "        vertical-align: top;\n",
       "    }\n",
       "\n",
       "    .dataframe thead th {\n",
       "        text-align: right;\n",
       "    }\n",
       "</style>\n",
       "<table border=\"1\" class=\"dataframe\">\n",
       "  <thead>\n",
       "    <tr style=\"text-align: right;\">\n",
       "      <th></th>\n",
       "      <th>NU_NOTA_REDACAO</th>\n",
       "    </tr>\n",
       "    <tr>\n",
       "      <th>TP_SEXO</th>\n",
       "      <th></th>\n",
       "    </tr>\n",
       "  </thead>\n",
       "  <tbody>\n",
       "    <tr>\n",
       "      <th>F</th>\n",
       "      <td>513.230037</td>\n",
       "    </tr>\n",
       "    <tr>\n",
       "      <th>M</th>\n",
       "      <td>503.109736</td>\n",
       "    </tr>\n",
       "  </tbody>\n",
       "</table>\n",
       "</div>"
      ],
      "text/plain": [
       "         NU_NOTA_REDACAO\n",
       "TP_SEXO                 \n",
       "F             513.230037\n",
       "M             503.109736"
      ]
     },
     "execution_count": 111,
     "metadata": {},
     "output_type": "execute_result"
    }
   ],
   "source": [
    "#Mostra a MÉDIA dos candidatos por genero\n",
    "microdadosEnemSexoRedacao.groupby('TP_SEXO').mean()"
   ]
  },
  {
   "cell_type": "code",
   "execution_count": 112,
   "metadata": {},
   "outputs": [
    {
     "data": {
      "text/html": [
       "<div>\n",
       "<style scoped>\n",
       "    .dataframe tbody tr th:only-of-type {\n",
       "        vertical-align: middle;\n",
       "    }\n",
       "\n",
       "    .dataframe tbody tr th {\n",
       "        vertical-align: top;\n",
       "    }\n",
       "\n",
       "    .dataframe thead th {\n",
       "        text-align: right;\n",
       "    }\n",
       "</style>\n",
       "<table border=\"1\" class=\"dataframe\">\n",
       "  <thead>\n",
       "    <tr style=\"text-align: right;\">\n",
       "      <th></th>\n",
       "      <th>NU_NOTA_REDACAO</th>\n",
       "    </tr>\n",
       "    <tr>\n",
       "      <th>TP_SEXO</th>\n",
       "      <th></th>\n",
       "    </tr>\n",
       "  </thead>\n",
       "  <tbody>\n",
       "    <tr>\n",
       "      <th>F</th>\n",
       "      <td>520.0</td>\n",
       "    </tr>\n",
       "    <tr>\n",
       "      <th>M</th>\n",
       "      <td>520.0</td>\n",
       "    </tr>\n",
       "  </tbody>\n",
       "</table>\n",
       "</div>"
      ],
      "text/plain": [
       "         NU_NOTA_REDACAO\n",
       "TP_SEXO                 \n",
       "F                  520.0\n",
       "M                  520.0"
      ]
     },
     "execution_count": 112,
     "metadata": {},
     "output_type": "execute_result"
    }
   ],
   "source": [
    "#Mostra a MEDIANA dos candidatos por genero\n",
    "microdadosEnemSexoRedacao.groupby('TP_SEXO').median()"
   ]
  },
  {
   "cell_type": "code",
   "execution_count": 113,
   "metadata": {},
   "outputs": [
    {
     "data": {
      "text/plain": [
       "TP_SEXO\n",
       "F    [[AxesSubplot(0.125,0.125;0.775x0.755)]]\n",
       "M    [[AxesSubplot(0.125,0.125;0.775x0.755)]]\n",
       "dtype: object"
      ]
     },
     "execution_count": 113,
     "metadata": {},
     "output_type": "execute_result"
    },
    {
     "data": {
      "image/png": "[encoded data removed]",
      "text/plain": [
       "<Figure size 432x288 with 1 Axes>"
      ]
     },
     "metadata": {
      "needs_background": "light"
     },
     "output_type": "display_data"
    },
    {
     "data": {
      "image/png": "[encoded data removed]",
      "text/plain": [
       "<Figure size 432x288 with 1 Axes>"
      ]
     },
     "metadata": {
      "needs_background": "light"
     },
     "output_type": "display_data"
    }
   ],
   "source": [
    "#Mostra o desempenho dos candidatos dividos por genero \n",
    "# (1° Feminino) e (2° Masculino)\n",
    "microdadosEnemSexoRedacao.groupby('TP_SEXO').hist()"
   ]
  },
  {
   "cell_type": "code",
   "execution_count": 114,
   "metadata": {},
   "outputs": [
    {
     "data": {
      "text/html": [
       "<div>\n",
       "<style scoped>\n",
       "    .dataframe tbody tr th:only-of-type {\n",
       "        vertical-align: middle;\n",
       "    }\n",
       "\n",
       "    .dataframe tbody tr th {\n",
       "        vertical-align: top;\n",
       "    }\n",
       "\n",
       "    .dataframe thead tr th {\n",
       "        text-align: left;\n",
       "    }\n",
       "\n",
       "    .dataframe thead tr:last-of-type th {\n",
       "        text-align: right;\n",
       "    }\n",
       "</style>\n",
       "<table border=\"1\" class=\"dataframe\">\n",
       "  <thead>\n",
       "    <tr>\n",
       "      <th></th>\n",
       "      <th colspan=\"8\" halign=\"left\">NU_NOTA_REDACAO</th>\n",
       "    </tr>\n",
       "    <tr>\n",
       "      <th></th>\n",
       "      <th>count</th>\n",
       "      <th>mean</th>\n",
       "      <th>std</th>\n",
       "      <th>min</th>\n",
       "      <th>25%</th>\n",
       "      <th>50%</th>\n",
       "      <th>75%</th>\n",
       "      <th>max</th>\n",
       "    </tr>\n",
       "    <tr>\n",
       "      <th>TP_SEXO</th>\n",
       "      <th></th>\n",
       "      <th></th>\n",
       "      <th></th>\n",
       "      <th></th>\n",
       "      <th></th>\n",
       "      <th></th>\n",
       "      <th></th>\n",
       "      <th></th>\n",
       "    </tr>\n",
       "  </thead>\n",
       "  <tbody>\n",
       "    <tr>\n",
       "      <th>F</th>\n",
       "      <td>61764.0</td>\n",
       "      <td>513.230037</td>\n",
       "      <td>187.498262</td>\n",
       "      <td>0.0</td>\n",
       "      <td>360.0</td>\n",
       "      <td>520.0</td>\n",
       "      <td>640.0</td>\n",
       "      <td>1000.0</td>\n",
       "    </tr>\n",
       "    <tr>\n",
       "      <th>M</th>\n",
       "      <td>42010.0</td>\n",
       "      <td>503.109736</td>\n",
       "      <td>186.138422</td>\n",
       "      <td>0.0</td>\n",
       "      <td>360.0</td>\n",
       "      <td>520.0</td>\n",
       "      <td>620.0</td>\n",
       "      <td>980.0</td>\n",
       "    </tr>\n",
       "  </tbody>\n",
       "</table>\n",
       "</div>"
      ],
      "text/plain": [
       "        NU_NOTA_REDACAO                                                    \\\n",
       "                  count        mean         std  min    25%    50%    75%   \n",
       "TP_SEXO                                                                     \n",
       "F               61764.0  513.230037  187.498262  0.0  360.0  520.0  640.0   \n",
       "M               42010.0  503.109736  186.138422  0.0  360.0  520.0  620.0   \n",
       "\n",
       "                 \n",
       "            max  \n",
       "TP_SEXO          \n",
       "F        1000.0  \n",
       "M         980.0  "
      ]
     },
     "execution_count": 114,
     "metadata": {},
     "output_type": "execute_result"
    }
   ],
   "source": [
    "#Mostra as informações básicas de estatistica apresentadas anteriormente\n",
    "microdadosEnemSexoRedacao.groupby('TP_SEXO').describe()"
   ]
  },
  {
   "cell_type": "markdown",
   "metadata": {},
   "source": [
    "# Diagrama socioeconomico"
   ]
  },
  {
   "cell_type": "code",
   "execution_count": 139,
   "metadata": {},
   "outputs": [],
   "source": [
    "#Armazena dentro de uma variavel o nome das colunas que querem ser vistas\n",
    "colunasSelecionadas = ['NU_INSCRICAO','NU_NOTA_MT',\n",
    "                       'NU_NOTA_REDACAO','Q001','Q002']"
   ]
  },
  {
   "cell_type": "code",
   "execution_count": 141,
   "metadata": {},
   "outputs": [],
   "source": [
    "#Armazena o dataframe com as colunas solicitadas\n",
    "microdadosEnemSelecionado = microdadosEnem.filter(items=colunasSelecionadas)"
   ]
  },
  {
   "cell_type": "code",
   "execution_count": 142,
   "metadata": {},
   "outputs": [
    {
     "data": {
      "text/html": [
       "<div>\n",
       "<style scoped>\n",
       "    .dataframe tbody tr th:only-of-type {\n",
       "        vertical-align: middle;\n",
       "    }\n",
       "\n",
       "    .dataframe tbody tr th {\n",
       "        vertical-align: top;\n",
       "    }\n",
       "\n",
       "    .dataframe thead th {\n",
       "        text-align: right;\n",
       "    }\n",
       "</style>\n",
       "<table border=\"1\" class=\"dataframe\">\n",
       "  <thead>\n",
       "    <tr style=\"text-align: right;\">\n",
       "      <th></th>\n",
       "      <th>NU_INSCRICAO</th>\n",
       "      <th>NU_NOTA_MT</th>\n",
       "      <th>NU_NOTA_REDACAO</th>\n",
       "      <th>Q001</th>\n",
       "      <th>Q002</th>\n",
       "    </tr>\n",
       "  </thead>\n",
       "  <tbody>\n",
       "    <tr>\n",
       "      <th>0</th>\n",
       "      <td>180009327796</td>\n",
       "      <td>NaN</td>\n",
       "      <td>NaN</td>\n",
       "      <td>B</td>\n",
       "      <td>B</td>\n",
       "    </tr>\n",
       "    <tr>\n",
       "      <th>1</th>\n",
       "      <td>180012890374</td>\n",
       "      <td>738.0</td>\n",
       "      <td>680.0</td>\n",
       "      <td>F</td>\n",
       "      <td>F</td>\n",
       "    </tr>\n",
       "    <tr>\n",
       "      <th>2</th>\n",
       "      <td>180008223824</td>\n",
       "      <td>438.1</td>\n",
       "      <td>600.0</td>\n",
       "      <td>E</td>\n",
       "      <td>E</td>\n",
       "    </tr>\n",
       "    <tr>\n",
       "      <th>3</th>\n",
       "      <td>180007859645</td>\n",
       "      <td>544.9</td>\n",
       "      <td>400.0</td>\n",
       "      <td>B</td>\n",
       "      <td>D</td>\n",
       "    </tr>\n",
       "    <tr>\n",
       "      <th>4</th>\n",
       "      <td>180013499517</td>\n",
       "      <td>NaN</td>\n",
       "      <td>NaN</td>\n",
       "      <td>F</td>\n",
       "      <td>F</td>\n",
       "    </tr>\n",
       "  </tbody>\n",
       "</table>\n",
       "</div>"
      ],
      "text/plain": [
       "   NU_INSCRICAO  NU_NOTA_MT  NU_NOTA_REDACAO Q001 Q002\n",
       "0  180009327796         NaN              NaN    B    B\n",
       "1  180012890374       738.0            680.0    F    F\n",
       "2  180008223824       438.1            600.0    E    E\n",
       "3  180007859645       544.9            400.0    B    D\n",
       "4  180013499517         NaN              NaN    F    F"
      ]
     },
     "execution_count": 142,
     "metadata": {},
     "output_type": "execute_result"
    }
   ],
   "source": [
    "microdadosEnemSelecionado.head()"
   ]
  },
  {
   "cell_type": "code",
   "execution_count": 143,
   "metadata": {},
   "outputs": [],
   "source": [
    "microdadosEnemSelecionado = microdadosEnemSelecionado.dropna()"
   ]
  },
  {
   "cell_type": "code",
   "execution_count": 144,
   "metadata": {},
   "outputs": [
    {
     "data": {
      "text/html": [
       "<div>\n",
       "<style scoped>\n",
       "    .dataframe tbody tr th:only-of-type {\n",
       "        vertical-align: middle;\n",
       "    }\n",
       "\n",
       "    .dataframe tbody tr th {\n",
       "        vertical-align: top;\n",
       "    }\n",
       "\n",
       "    .dataframe thead th {\n",
       "        text-align: right;\n",
       "    }\n",
       "</style>\n",
       "<table border=\"1\" class=\"dataframe\">\n",
       "  <thead>\n",
       "    <tr style=\"text-align: right;\">\n",
       "      <th></th>\n",
       "      <th>NU_INSCRICAO</th>\n",
       "      <th>NU_NOTA_MT</th>\n",
       "      <th>NU_NOTA_REDACAO</th>\n",
       "      <th>Q001</th>\n",
       "      <th>Q002</th>\n",
       "    </tr>\n",
       "  </thead>\n",
       "  <tbody>\n",
       "    <tr>\n",
       "      <th>1</th>\n",
       "      <td>180012890374</td>\n",
       "      <td>738.0</td>\n",
       "      <td>680.0</td>\n",
       "      <td>F</td>\n",
       "      <td>F</td>\n",
       "    </tr>\n",
       "    <tr>\n",
       "      <th>2</th>\n",
       "      <td>180008223824</td>\n",
       "      <td>438.1</td>\n",
       "      <td>600.0</td>\n",
       "      <td>E</td>\n",
       "      <td>E</td>\n",
       "    </tr>\n",
       "    <tr>\n",
       "      <th>3</th>\n",
       "      <td>180007859645</td>\n",
       "      <td>544.9</td>\n",
       "      <td>400.0</td>\n",
       "      <td>B</td>\n",
       "      <td>D</td>\n",
       "    </tr>\n",
       "    <tr>\n",
       "      <th>6</th>\n",
       "      <td>180009943059</td>\n",
       "      <td>436.8</td>\n",
       "      <td>560.0</td>\n",
       "      <td>B</td>\n",
       "      <td>B</td>\n",
       "    </tr>\n",
       "    <tr>\n",
       "      <th>8</th>\n",
       "      <td>180008290373</td>\n",
       "      <td>487.6</td>\n",
       "      <td>660.0</td>\n",
       "      <td>D</td>\n",
       "      <td>D</td>\n",
       "    </tr>\n",
       "  </tbody>\n",
       "</table>\n",
       "</div>"
      ],
      "text/plain": [
       "   NU_INSCRICAO  NU_NOTA_MT  NU_NOTA_REDACAO Q001 Q002\n",
       "1  180012890374       738.0            680.0    F    F\n",
       "2  180008223824       438.1            600.0    E    E\n",
       "3  180007859645       544.9            400.0    B    D\n",
       "6  180009943059       436.8            560.0    B    B\n",
       "8  180008290373       487.6            660.0    D    D"
      ]
     },
     "execution_count": 144,
     "metadata": {},
     "output_type": "execute_result"
    }
   ],
   "source": [
    "microdadosEnemSelecionado.head()"
   ]
  },
  {
   "cell_type": "code",
   "execution_count": 145,
   "metadata": {},
   "outputs": [],
   "source": [
    "#É um dicionário que apresenta a relação dos registros\n",
    "q001e002Dicionario = {\n",
    "    'A': 'Nunca estudou.',\n",
    "    'B': 'Não completou a 4° série/5° ano do Ensino Fundamental',\n",
    "    'C': 'Completou a 4° série/5° ano, mas não completou a 8° série/9° ano do Ensino Fundamental',\n",
    "    'D': 'Completou a 8ª série/9º ano do Ensino Fundamental, mas não completou o Ensino Médio.',\n",
    "    'E': 'Completou o Ensino Médio, mas não completou a Faculdade.',\n",
    "    'F': 'Completou a Faculdade, mas não completou a Pós-graduação.',\n",
    "    'G': 'Completou a Pós-graduação.',\n",
    "    'H': 'Não sei'\n",
    "}"
   ]
  },
  {
   "cell_type": "code",
   "execution_count": 146,
   "metadata": {},
   "outputs": [
    {
     "data": {
      "text/html": [
       "<div>\n",
       "<style scoped>\n",
       "    .dataframe tbody tr th:only-of-type {\n",
       "        vertical-align: middle;\n",
       "    }\n",
       "\n",
       "    .dataframe tbody tr th {\n",
       "        vertical-align: top;\n",
       "    }\n",
       "\n",
       "    .dataframe thead th {\n",
       "        text-align: right;\n",
       "    }\n",
       "</style>\n",
       "<table border=\"1\" class=\"dataframe\">\n",
       "  <thead>\n",
       "    <tr style=\"text-align: right;\">\n",
       "      <th></th>\n",
       "      <th>NU_INSCRICAO</th>\n",
       "    </tr>\n",
       "    <tr>\n",
       "      <th>Q001</th>\n",
       "      <th></th>\n",
       "    </tr>\n",
       "  </thead>\n",
       "  <tbody>\n",
       "    <tr>\n",
       "      <th>A</th>\n",
       "      <td>5063</td>\n",
       "    </tr>\n",
       "    <tr>\n",
       "      <th>B</th>\n",
       "      <td>20336</td>\n",
       "    </tr>\n",
       "    <tr>\n",
       "      <th>C</th>\n",
       "      <td>13543</td>\n",
       "    </tr>\n",
       "    <tr>\n",
       "      <th>D</th>\n",
       "      <td>11502</td>\n",
       "    </tr>\n",
       "    <tr>\n",
       "      <th>E</th>\n",
       "      <td>26213</td>\n",
       "    </tr>\n",
       "    <tr>\n",
       "      <th>F</th>\n",
       "      <td>7780</td>\n",
       "    </tr>\n",
       "    <tr>\n",
       "      <th>G</th>\n",
       "      <td>4644</td>\n",
       "    </tr>\n",
       "    <tr>\n",
       "      <th>H</th>\n",
       "      <td>8189</td>\n",
       "    </tr>\n",
       "  </tbody>\n",
       "</table>\n",
       "</div>"
      ],
      "text/plain": [
       "      NU_INSCRICAO\n",
       "Q001              \n",
       "A             5063\n",
       "B            20336\n",
       "C            13543\n",
       "D            11502\n",
       "E            26213\n",
       "F             7780\n",
       "G             4644\n",
       "H             8189"
      ]
     },
     "execution_count": 146,
     "metadata": {},
     "output_type": "execute_result"
    }
   ],
   "source": [
    "microdadosEnemSelecionado.filter(items=['Q001','NU_INSCRICAO']).groupby('Q001').count()"
   ]
  },
  {
   "cell_type": "code",
   "execution_count": 147,
   "metadata": {},
   "outputs": [],
   "source": [
    "#Cria uma coluna nova no dataframe chamada NO_Q001 do qual irá pegar o valor correspondente do dicionário e colocar na lista\n",
    "microdadosEnemSelecionado['NO_Q001'] = [q001e002Dicionario[res] for res in microdadosEnemSelecionado.Q001]"
   ]
  },
  {
   "cell_type": "code",
   "execution_count": 148,
   "metadata": {},
   "outputs": [],
   "source": [
    "microdadosEnemSelecionado['NO_Q002'] = [q001e002Dicionario[res] for res in microdadosEnemSelecionado.Q002]"
   ]
  },
  {
   "cell_type": "code",
   "execution_count": 149,
   "metadata": {},
   "outputs": [
    {
     "data": {
      "text/html": [
       "<div>\n",
       "<style scoped>\n",
       "    .dataframe tbody tr th:only-of-type {\n",
       "        vertical-align: middle;\n",
       "    }\n",
       "\n",
       "    .dataframe tbody tr th {\n",
       "        vertical-align: top;\n",
       "    }\n",
       "\n",
       "    .dataframe thead th {\n",
       "        text-align: right;\n",
       "    }\n",
       "</style>\n",
       "<table border=\"1\" class=\"dataframe\">\n",
       "  <thead>\n",
       "    <tr style=\"text-align: right;\">\n",
       "      <th></th>\n",
       "      <th>NU_INSCRICAO</th>\n",
       "      <th>NU_NOTA_MT</th>\n",
       "      <th>NU_NOTA_REDACAO</th>\n",
       "      <th>Q001</th>\n",
       "      <th>Q002</th>\n",
       "      <th>NO_Q001</th>\n",
       "      <th>NO_Q002</th>\n",
       "    </tr>\n",
       "  </thead>\n",
       "  <tbody>\n",
       "    <tr>\n",
       "      <th>1</th>\n",
       "      <td>180012890374</td>\n",
       "      <td>738.0</td>\n",
       "      <td>680.0</td>\n",
       "      <td>F</td>\n",
       "      <td>F</td>\n",
       "      <td>Completou a Faculdade, mas não completou a Pós...</td>\n",
       "      <td>Completou a Faculdade, mas não completou a Pós...</td>\n",
       "    </tr>\n",
       "    <tr>\n",
       "      <th>2</th>\n",
       "      <td>180008223824</td>\n",
       "      <td>438.1</td>\n",
       "      <td>600.0</td>\n",
       "      <td>E</td>\n",
       "      <td>E</td>\n",
       "      <td>Completou o Ensino Médio, mas não completou a ...</td>\n",
       "      <td>Completou o Ensino Médio, mas não completou a ...</td>\n",
       "    </tr>\n",
       "    <tr>\n",
       "      <th>3</th>\n",
       "      <td>180007859645</td>\n",
       "      <td>544.9</td>\n",
       "      <td>400.0</td>\n",
       "      <td>B</td>\n",
       "      <td>D</td>\n",
       "      <td>Não completou a 4° série/5° ano do Ensino Fund...</td>\n",
       "      <td>Completou a 8ª série/9º ano do Ensino Fundamen...</td>\n",
       "    </tr>\n",
       "    <tr>\n",
       "      <th>6</th>\n",
       "      <td>180009943059</td>\n",
       "      <td>436.8</td>\n",
       "      <td>560.0</td>\n",
       "      <td>B</td>\n",
       "      <td>B</td>\n",
       "      <td>Não completou a 4° série/5° ano do Ensino Fund...</td>\n",
       "      <td>Não completou a 4° série/5° ano do Ensino Fund...</td>\n",
       "    </tr>\n",
       "    <tr>\n",
       "      <th>8</th>\n",
       "      <td>180008290373</td>\n",
       "      <td>487.6</td>\n",
       "      <td>660.0</td>\n",
       "      <td>D</td>\n",
       "      <td>D</td>\n",
       "      <td>Completou a 8ª série/9º ano do Ensino Fundamen...</td>\n",
       "      <td>Completou a 8ª série/9º ano do Ensino Fundamen...</td>\n",
       "    </tr>\n",
       "  </tbody>\n",
       "</table>\n",
       "</div>"
      ],
      "text/plain": [
       "   NU_INSCRICAO  NU_NOTA_MT  NU_NOTA_REDACAO Q001 Q002  \\\n",
       "1  180012890374       738.0            680.0    F    F   \n",
       "2  180008223824       438.1            600.0    E    E   \n",
       "3  180007859645       544.9            400.0    B    D   \n",
       "6  180009943059       436.8            560.0    B    B   \n",
       "8  180008290373       487.6            660.0    D    D   \n",
       "\n",
       "                                             NO_Q001  \\\n",
       "1  Completou a Faculdade, mas não completou a Pós...   \n",
       "2  Completou o Ensino Médio, mas não completou a ...   \n",
       "3  Não completou a 4° série/5° ano do Ensino Fund...   \n",
       "6  Não completou a 4° série/5° ano do Ensino Fund...   \n",
       "8  Completou a 8ª série/9º ano do Ensino Fundamen...   \n",
       "\n",
       "                                             NO_Q002  \n",
       "1  Completou a Faculdade, mas não completou a Pós...  \n",
       "2  Completou o Ensino Médio, mas não completou a ...  \n",
       "3  Completou a 8ª série/9º ano do Ensino Fundamen...  \n",
       "6  Não completou a 4° série/5° ano do Ensino Fund...  \n",
       "8  Completou a 8ª série/9º ano do Ensino Fundamen...  "
      ]
     },
     "execution_count": 149,
     "metadata": {},
     "output_type": "execute_result"
    }
   ],
   "source": [
    "microdadosEnemSelecionado.head()"
   ]
  },
  {
   "cell_type": "code",
   "execution_count": 150,
   "metadata": {},
   "outputs": [
    {
     "data": {
      "text/html": [
       "<div>\n",
       "<style scoped>\n",
       "    .dataframe tbody tr th:only-of-type {\n",
       "        vertical-align: middle;\n",
       "    }\n",
       "\n",
       "    .dataframe tbody tr th {\n",
       "        vertical-align: top;\n",
       "    }\n",
       "\n",
       "    .dataframe thead th {\n",
       "        text-align: right;\n",
       "    }\n",
       "</style>\n",
       "<table border=\"1\" class=\"dataframe\">\n",
       "  <thead>\n",
       "    <tr style=\"text-align: right;\">\n",
       "      <th></th>\n",
       "      <th>NU_INSCRICAO</th>\n",
       "    </tr>\n",
       "    <tr>\n",
       "      <th>NO_Q001</th>\n",
       "      <th></th>\n",
       "    </tr>\n",
       "  </thead>\n",
       "  <tbody>\n",
       "    <tr>\n",
       "      <th>Completou o Ensino Médio, mas não completou a Faculdade.</th>\n",
       "      <td>26213</td>\n",
       "    </tr>\n",
       "    <tr>\n",
       "      <th>Não completou a 4° série/5° ano do Ensino Fundamental</th>\n",
       "      <td>20336</td>\n",
       "    </tr>\n",
       "    <tr>\n",
       "      <th>Completou a 4° série/5° ano, mas não completou a 8° série/9° ano do Ensino Fundamental</th>\n",
       "      <td>13543</td>\n",
       "    </tr>\n",
       "    <tr>\n",
       "      <th>Completou a 8ª série/9º ano do Ensino Fundamental, mas não completou o Ensino Médio.</th>\n",
       "      <td>11502</td>\n",
       "    </tr>\n",
       "    <tr>\n",
       "      <th>Não sei</th>\n",
       "      <td>8189</td>\n",
       "    </tr>\n",
       "    <tr>\n",
       "      <th>Completou a Faculdade, mas não completou a Pós-graduação.</th>\n",
       "      <td>7780</td>\n",
       "    </tr>\n",
       "    <tr>\n",
       "      <th>Nunca estudou.</th>\n",
       "      <td>5063</td>\n",
       "    </tr>\n",
       "    <tr>\n",
       "      <th>Completou a Pós-graduação.</th>\n",
       "      <td>4644</td>\n",
       "    </tr>\n",
       "  </tbody>\n",
       "</table>\n",
       "</div>"
      ],
      "text/plain": [
       "                                                    NU_INSCRICAO\n",
       "NO_Q001                                                         \n",
       "Completou o Ensino Médio, mas não completou a F...         26213\n",
       "Não completou a 4° série/5° ano do Ensino Funda...         20336\n",
       "Completou a 4° série/5° ano, mas não completou ...         13543\n",
       "Completou a 8ª série/9º ano do Ensino Fundament...         11502\n",
       "Não sei                                                     8189\n",
       "Completou a Faculdade, mas não completou a Pós-...          7780\n",
       "Nunca estudou.                                              5063\n",
       "Completou a Pós-graduação.                                  4644"
      ]
     },
     "execution_count": 150,
     "metadata": {},
     "output_type": "execute_result"
    }
   ],
   "source": [
    "microdadosEnemSelecionado.filter(items=['NU_INSCRICAO','NO_Q001']).groupby('NO_Q001').count().sort_values(by='NU_INSCRICAO', ascending=False)"
   ]
  },
  {
   "cell_type": "code",
   "execution_count": 151,
   "metadata": {},
   "outputs": [
    {
     "data": {
      "text/html": [
       "<div>\n",
       "<style scoped>\n",
       "    .dataframe tbody tr th:only-of-type {\n",
       "        vertical-align: middle;\n",
       "    }\n",
       "\n",
       "    .dataframe tbody tr th {\n",
       "        vertical-align: top;\n",
       "    }\n",
       "\n",
       "    .dataframe thead th {\n",
       "        text-align: right;\n",
       "    }\n",
       "</style>\n",
       "<table border=\"1\" class=\"dataframe\">\n",
       "  <thead>\n",
       "    <tr style=\"text-align: right;\">\n",
       "      <th></th>\n",
       "      <th>NU_INSCRICAO</th>\n",
       "    </tr>\n",
       "    <tr>\n",
       "      <th>NO_Q002</th>\n",
       "      <th></th>\n",
       "    </tr>\n",
       "  </thead>\n",
       "  <tbody>\n",
       "    <tr>\n",
       "      <th>Completou o Ensino Médio, mas não completou a Faculdade.</th>\n",
       "      <td>31873</td>\n",
       "    </tr>\n",
       "    <tr>\n",
       "      <th>Não completou a 4° série/5° ano do Ensino Fundamental</th>\n",
       "      <td>15236</td>\n",
       "    </tr>\n",
       "    <tr>\n",
       "      <th>Completou a 4° série/5° ano, mas não completou a 8° série/9° ano do Ensino Fundamental</th>\n",
       "      <td>12814</td>\n",
       "    </tr>\n",
       "    <tr>\n",
       "      <th>Completou a 8ª série/9º ano do Ensino Fundamental, mas não completou o Ensino Médio.</th>\n",
       "      <td>12716</td>\n",
       "    </tr>\n",
       "    <tr>\n",
       "      <th>Completou a Faculdade, mas não completou a Pós-graduação.</th>\n",
       "      <td>10394</td>\n",
       "    </tr>\n",
       "    <tr>\n",
       "      <th>Completou a Pós-graduação.</th>\n",
       "      <td>7979</td>\n",
       "    </tr>\n",
       "    <tr>\n",
       "      <th>Nunca estudou.</th>\n",
       "      <td>3422</td>\n",
       "    </tr>\n",
       "    <tr>\n",
       "      <th>Não sei</th>\n",
       "      <td>2836</td>\n",
       "    </tr>\n",
       "  </tbody>\n",
       "</table>\n",
       "</div>"
      ],
      "text/plain": [
       "                                                    NU_INSCRICAO\n",
       "NO_Q002                                                         \n",
       "Completou o Ensino Médio, mas não completou a F...         31873\n",
       "Não completou a 4° série/5° ano do Ensino Funda...         15236\n",
       "Completou a 4° série/5° ano, mas não completou ...         12814\n",
       "Completou a 8ª série/9º ano do Ensino Fundament...         12716\n",
       "Completou a Faculdade, mas não completou a Pós-...         10394\n",
       "Completou a Pós-graduação.                                  7979\n",
       "Nunca estudou.                                              3422\n",
       "Não sei                                                     2836"
      ]
     },
     "execution_count": 151,
     "metadata": {},
     "output_type": "execute_result"
    }
   ],
   "source": [
    "microdadosEnemSelecionado.filter(items=['NU_INSCRICAO','NO_Q002']).groupby('NO_Q002').count().sort_values(by='NU_INSCRICAO', ascending=False)"
   ]
  },
  {
   "cell_type": "code",
   "execution_count": 153,
   "metadata": {},
   "outputs": [
    {
     "data": {
      "text/html": [
       "<div>\n",
       "<style scoped>\n",
       "    .dataframe tbody tr th:only-of-type {\n",
       "        vertical-align: middle;\n",
       "    }\n",
       "\n",
       "    .dataframe tbody tr th {\n",
       "        vertical-align: top;\n",
       "    }\n",
       "\n",
       "    .dataframe thead th {\n",
       "        text-align: right;\n",
       "    }\n",
       "</style>\n",
       "<table border=\"1\" class=\"dataframe\">\n",
       "  <thead>\n",
       "    <tr style=\"text-align: right;\">\n",
       "      <th></th>\n",
       "      <th>NU_NOTA_MT</th>\n",
       "    </tr>\n",
       "    <tr>\n",
       "      <th>NO_Q001</th>\n",
       "      <th></th>\n",
       "    </tr>\n",
       "  </thead>\n",
       "  <tbody>\n",
       "    <tr>\n",
       "      <th>Completou a Pós-graduação.</th>\n",
       "      <td>629.084109</td>\n",
       "    </tr>\n",
       "    <tr>\n",
       "      <th>Completou a Faculdade, mas não completou a Pós-graduação.</th>\n",
       "      <td>605.929396</td>\n",
       "    </tr>\n",
       "    <tr>\n",
       "      <th>Completou o Ensino Médio, mas não completou a Faculdade.</th>\n",
       "      <td>550.973727</td>\n",
       "    </tr>\n",
       "    <tr>\n",
       "      <th>Completou a 8ª série/9º ano do Ensino Fundamental, mas não completou o Ensino Médio.</th>\n",
       "      <td>530.195766</td>\n",
       "    </tr>\n",
       "    <tr>\n",
       "      <th>Completou a 4° série/5° ano, mas não completou a 8° série/9° ano do Ensino Fundamental</th>\n",
       "      <td>518.940382</td>\n",
       "    </tr>\n",
       "    <tr>\n",
       "      <th>Não sei</th>\n",
       "      <td>512.570717</td>\n",
       "    </tr>\n",
       "    <tr>\n",
       "      <th>Não completou a 4° série/5° ano do Ensino Fundamental</th>\n",
       "      <td>502.487451</td>\n",
       "    </tr>\n",
       "    <tr>\n",
       "      <th>Nunca estudou.</th>\n",
       "      <td>482.196642</td>\n",
       "    </tr>\n",
       "  </tbody>\n",
       "</table>\n",
       "</div>"
      ],
      "text/plain": [
       "                                                    NU_NOTA_MT\n",
       "NO_Q001                                                       \n",
       "Completou a Pós-graduação.                          629.084109\n",
       "Completou a Faculdade, mas não completou a Pós-...  605.929396\n",
       "Completou o Ensino Médio, mas não completou a F...  550.973727\n",
       "Completou a 8ª série/9º ano do Ensino Fundament...  530.195766\n",
       "Completou a 4° série/5° ano, mas não completou ...  518.940382\n",
       "Não sei                                             512.570717\n",
       "Não completou a 4° série/5° ano do Ensino Funda...  502.487451\n",
       "Nunca estudou.                                      482.196642"
      ]
     },
     "execution_count": 153,
     "metadata": {},
     "output_type": "execute_result"
    }
   ],
   "source": [
    "microdadosEnemSelecionado.filter(items=['NU_NOTA_MT','NO_Q001']).groupby('NO_Q001').mean().sort_values(by='NU_NOTA_MT', ascending=False)"
   ]
  },
  {
   "cell_type": "code",
   "execution_count": 154,
   "metadata": {},
   "outputs": [
    {
     "data": {
      "text/html": [
       "<div>\n",
       "<style scoped>\n",
       "    .dataframe tbody tr th:only-of-type {\n",
       "        vertical-align: middle;\n",
       "    }\n",
       "\n",
       "    .dataframe tbody tr th {\n",
       "        vertical-align: top;\n",
       "    }\n",
       "\n",
       "    .dataframe thead th {\n",
       "        text-align: right;\n",
       "    }\n",
       "</style>\n",
       "<table border=\"1\" class=\"dataframe\">\n",
       "  <thead>\n",
       "    <tr style=\"text-align: right;\">\n",
       "      <th></th>\n",
       "      <th>NU_NOTA_MT</th>\n",
       "    </tr>\n",
       "    <tr>\n",
       "      <th>NO_Q002</th>\n",
       "      <th></th>\n",
       "    </tr>\n",
       "  </thead>\n",
       "  <tbody>\n",
       "    <tr>\n",
       "      <th>Completou a Pós-graduação.</th>\n",
       "      <td>604.956035</td>\n",
       "    </tr>\n",
       "    <tr>\n",
       "      <th>Completou a Faculdade, mas não completou a Pós-graduação.</th>\n",
       "      <td>590.497181</td>\n",
       "    </tr>\n",
       "    <tr>\n",
       "      <th>Completou o Ensino Médio, mas não completou a Faculdade.</th>\n",
       "      <td>542.646864</td>\n",
       "    </tr>\n",
       "    <tr>\n",
       "      <th>Completou a 8ª série/9º ano do Ensino Fundamental, mas não completou o Ensino Médio.</th>\n",
       "      <td>521.337921</td>\n",
       "    </tr>\n",
       "    <tr>\n",
       "      <th>Completou a 4° série/5° ano, mas não completou a 8° série/9° ano do Ensino Fundamental</th>\n",
       "      <td>510.958920</td>\n",
       "    </tr>\n",
       "    <tr>\n",
       "      <th>Não sei</th>\n",
       "      <td>504.356065</td>\n",
       "    </tr>\n",
       "    <tr>\n",
       "      <th>Não completou a 4° série/5° ano do Ensino Fundamental</th>\n",
       "      <td>495.947775</td>\n",
       "    </tr>\n",
       "    <tr>\n",
       "      <th>Nunca estudou.</th>\n",
       "      <td>478.740736</td>\n",
       "    </tr>\n",
       "  </tbody>\n",
       "</table>\n",
       "</div>"
      ],
      "text/plain": [
       "                                                    NU_NOTA_MT\n",
       "NO_Q002                                                       \n",
       "Completou a Pós-graduação.                          604.956035\n",
       "Completou a Faculdade, mas não completou a Pós-...  590.497181\n",
       "Completou o Ensino Médio, mas não completou a F...  542.646864\n",
       "Completou a 8ª série/9º ano do Ensino Fundament...  521.337921\n",
       "Completou a 4° série/5° ano, mas não completou ...  510.958920\n",
       "Não sei                                             504.356065\n",
       "Não completou a 4° série/5° ano do Ensino Funda...  495.947775\n",
       "Nunca estudou.                                      478.740736"
      ]
     },
     "execution_count": 154,
     "metadata": {},
     "output_type": "execute_result"
    }
   ],
   "source": [
    "microdadosEnemSelecionado.filter(items=['NU_NOTA_MT','NO_Q002']).groupby('NO_Q002').mean().sort_values(by='NU_NOTA_MT', ascending=False)"
   ]
  },
  {
   "cell_type": "code",
   "execution_count": 155,
   "metadata": {},
   "outputs": [
    {
     "data": {
      "text/html": [
       "<div>\n",
       "<style scoped>\n",
       "    .dataframe tbody tr th:only-of-type {\n",
       "        vertical-align: middle;\n",
       "    }\n",
       "\n",
       "    .dataframe tbody tr th {\n",
       "        vertical-align: top;\n",
       "    }\n",
       "\n",
       "    .dataframe thead th {\n",
       "        text-align: right;\n",
       "    }\n",
       "</style>\n",
       "<table border=\"1\" class=\"dataframe\">\n",
       "  <thead>\n",
       "    <tr style=\"text-align: right;\">\n",
       "      <th></th>\n",
       "      <th>NU_NOTA_REDACAO</th>\n",
       "    </tr>\n",
       "    <tr>\n",
       "      <th>NO_Q002</th>\n",
       "      <th></th>\n",
       "    </tr>\n",
       "  </thead>\n",
       "  <tbody>\n",
       "    <tr>\n",
       "      <th>Completou a Pós-graduação.</th>\n",
       "      <td>621.814764</td>\n",
       "    </tr>\n",
       "    <tr>\n",
       "      <th>Completou a Faculdade, mas não completou a Pós-graduação.</th>\n",
       "      <td>601.556667</td>\n",
       "    </tr>\n",
       "    <tr>\n",
       "      <th>Completou o Ensino Médio, mas não completou a Faculdade.</th>\n",
       "      <td>532.654598</td>\n",
       "    </tr>\n",
       "    <tr>\n",
       "      <th>Completou a 8ª série/9º ano do Ensino Fundamental, mas não completou o Ensino Médio.</th>\n",
       "      <td>494.653979</td>\n",
       "    </tr>\n",
       "    <tr>\n",
       "      <th>Completou a 4° série/5° ano, mas não completou a 8° série/9° ano do Ensino Fundamental</th>\n",
       "      <td>478.857500</td>\n",
       "    </tr>\n",
       "    <tr>\n",
       "      <th>Não completou a 4° série/5° ano do Ensino Fundamental</th>\n",
       "      <td>455.019690</td>\n",
       "    </tr>\n",
       "    <tr>\n",
       "      <th>Não sei</th>\n",
       "      <td>450.091678</td>\n",
       "    </tr>\n",
       "    <tr>\n",
       "      <th>Nunca estudou.</th>\n",
       "      <td>411.741672</td>\n",
       "    </tr>\n",
       "  </tbody>\n",
       "</table>\n",
       "</div>"
      ],
      "text/plain": [
       "                                                    NU_NOTA_REDACAO\n",
       "NO_Q002                                                            \n",
       "Completou a Pós-graduação.                               621.814764\n",
       "Completou a Faculdade, mas não completou a Pós-...       601.556667\n",
       "Completou o Ensino Médio, mas não completou a F...       532.654598\n",
       "Completou a 8ª série/9º ano do Ensino Fundament...       494.653979\n",
       "Completou a 4° série/5° ano, mas não completou ...       478.857500\n",
       "Não completou a 4° série/5° ano do Ensino Funda...       455.019690\n",
       "Não sei                                                  450.091678\n",
       "Nunca estudou.                                           411.741672"
      ]
     },
     "execution_count": 155,
     "metadata": {},
     "output_type": "execute_result"
    }
   ],
   "source": [
    "#mãe\n",
    "microdadosEnemSelecionado.filter(items=['NU_NOTA_REDACAO','NO_Q002']).groupby('NO_Q002').mean().sort_values(by='NU_NOTA_REDACAO', ascending=False)"
   ]
  },
  {
   "cell_type": "code",
   "execution_count": 156,
   "metadata": {},
   "outputs": [
    {
     "data": {
      "text/html": [
       "<div>\n",
       "<style scoped>\n",
       "    .dataframe tbody tr th:only-of-type {\n",
       "        vertical-align: middle;\n",
       "    }\n",
       "\n",
       "    .dataframe tbody tr th {\n",
       "        vertical-align: top;\n",
       "    }\n",
       "\n",
       "    .dataframe thead th {\n",
       "        text-align: right;\n",
       "    }\n",
       "</style>\n",
       "<table border=\"1\" class=\"dataframe\">\n",
       "  <thead>\n",
       "    <tr style=\"text-align: right;\">\n",
       "      <th></th>\n",
       "      <th>NU_NOTA_REDACAO</th>\n",
       "    </tr>\n",
       "    <tr>\n",
       "      <th>NO_Q001</th>\n",
       "      <th></th>\n",
       "    </tr>\n",
       "  </thead>\n",
       "  <tbody>\n",
       "    <tr>\n",
       "      <th>Completou a Pós-graduação.</th>\n",
       "      <td>651.024978</td>\n",
       "    </tr>\n",
       "    <tr>\n",
       "      <th>Completou a Faculdade, mas não completou a Pós-graduação.</th>\n",
       "      <td>622.930591</td>\n",
       "    </tr>\n",
       "    <tr>\n",
       "      <th>Completou o Ensino Médio, mas não completou a Faculdade.</th>\n",
       "      <td>545.517873</td>\n",
       "    </tr>\n",
       "    <tr>\n",
       "      <th>Completou a 8ª série/9º ano do Ensino Fundamental, mas não completou o Ensino Médio.</th>\n",
       "      <td>513.387237</td>\n",
       "    </tr>\n",
       "    <tr>\n",
       "      <th>Completou a 4° série/5° ano, mas não completou a 8° série/9° ano do Ensino Fundamental</th>\n",
       "      <td>492.178985</td>\n",
       "    </tr>\n",
       "    <tr>\n",
       "      <th>Não sei</th>\n",
       "      <td>475.213091</td>\n",
       "    </tr>\n",
       "    <tr>\n",
       "      <th>Não completou a 4° série/5° ano do Ensino Fundamental</th>\n",
       "      <td>464.323367</td>\n",
       "    </tr>\n",
       "    <tr>\n",
       "      <th>Nunca estudou.</th>\n",
       "      <td>426.936599</td>\n",
       "    </tr>\n",
       "  </tbody>\n",
       "</table>\n",
       "</div>"
      ],
      "text/plain": [
       "                                                    NU_NOTA_REDACAO\n",
       "NO_Q001                                                            \n",
       "Completou a Pós-graduação.                               651.024978\n",
       "Completou a Faculdade, mas não completou a Pós-...       622.930591\n",
       "Completou o Ensino Médio, mas não completou a F...       545.517873\n",
       "Completou a 8ª série/9º ano do Ensino Fundament...       513.387237\n",
       "Completou a 4° série/5° ano, mas não completou ...       492.178985\n",
       "Não sei                                                  475.213091\n",
       "Não completou a 4° série/5° ano do Ensino Funda...       464.323367\n",
       "Nunca estudou.                                           426.936599"
      ]
     },
     "execution_count": 156,
     "metadata": {},
     "output_type": "execute_result"
    }
   ],
   "source": [
    "microdadosEnemSelecionado.filter(items=['NU_NOTA_REDACAO','NO_Q001']).groupby('NO_Q001').mean().sort_values(by='NU_NOTA_REDACAO', ascending=False)"
   ]
  },
  {
   "cell_type": "code",
   "execution_count": 159,
   "metadata": {},
   "outputs": [],
   "source": [
    "graficoPai = microdadosEnemSelecionado.filter(items=['NU_NOTA_REDACAO','NO_Q001']).groupby('NO_Q001').mean().sort_values(by='NU_NOTA_REDACAO', ascending=False)"
   ]
  },
  {
   "cell_type": "code",
   "execution_count": 160,
   "metadata": {},
   "outputs": [
    {
     "data": {
      "text/plain": [
       "<AxesSubplot:xlabel='NO_Q001'>"
      ]
     },
     "execution_count": 160,
     "metadata": {},
     "output_type": "execute_result"
    },
    {
     "data": {
      "image/png": "[encoded data removed]",
      "text/plain": [
       "<Figure size 432x288 with 1 Axes>"
      ]
     },
     "metadata": {
      "needs_background": "light"
     },
     "output_type": "display_data"
    }
   ],
   "source": [
    "graficoPai.plot()"
   ]
  },
  {
   "cell_type": "code",
   "execution_count": 164,
   "metadata": {},
   "outputs": [],
   "source": [
    "dados = microdadosEnemSelecionado.filter(items=['NU_NOTA_REDACAO','NO_Q001']).groupby('NO_Q001').describe()"
   ]
  },
  {
   "cell_type": "code",
   "execution_count": 168,
   "metadata": {},
   "outputs": [
    {
     "data": {
      "text/html": [
       "<div>\n",
       "<style scoped>\n",
       "    .dataframe tbody tr th:only-of-type {\n",
       "        vertical-align: middle;\n",
       "    }\n",
       "\n",
       "    .dataframe tbody tr th {\n",
       "        vertical-align: top;\n",
       "    }\n",
       "\n",
       "    .dataframe thead tr th {\n",
       "        text-align: left;\n",
       "    }\n",
       "\n",
       "    .dataframe thead tr:last-of-type th {\n",
       "        text-align: right;\n",
       "    }\n",
       "</style>\n",
       "<table border=\"1\" class=\"dataframe\">\n",
       "  <thead>\n",
       "    <tr>\n",
       "      <th></th>\n",
       "      <th colspan=\"8\" halign=\"left\">NU_NOTA_REDACAO</th>\n",
       "    </tr>\n",
       "    <tr>\n",
       "      <th></th>\n",
       "      <th>count</th>\n",
       "      <th>mean</th>\n",
       "      <th>std</th>\n",
       "      <th>min</th>\n",
       "      <th>25%</th>\n",
       "      <th>50%</th>\n",
       "      <th>75%</th>\n",
       "      <th>max</th>\n",
       "    </tr>\n",
       "    <tr>\n",
       "      <th>NO_Q001</th>\n",
       "      <th></th>\n",
       "      <th></th>\n",
       "      <th></th>\n",
       "      <th></th>\n",
       "      <th></th>\n",
       "      <th></th>\n",
       "      <th></th>\n",
       "      <th></th>\n",
       "    </tr>\n",
       "  </thead>\n",
       "  <tbody>\n",
       "    <tr>\n",
       "      <th>Completou a 4° série/5° ano, mas não completou a 8° série/9° ano do Ensino Fundamental</th>\n",
       "      <td>13543.0</td>\n",
       "      <td>492.178985</td>\n",
       "      <td>173.353639</td>\n",
       "      <td>0.0</td>\n",
       "      <td>360.0</td>\n",
       "      <td>500.0</td>\n",
       "      <td>600.0</td>\n",
       "      <td>980.0</td>\n",
       "    </tr>\n",
       "    <tr>\n",
       "      <th>Completou a 8ª série/9º ano do Ensino Fundamental, mas não completou o Ensino Médio.</th>\n",
       "      <td>11502.0</td>\n",
       "      <td>513.387237</td>\n",
       "      <td>175.279432</td>\n",
       "      <td>0.0</td>\n",
       "      <td>360.0</td>\n",
       "      <td>520.0</td>\n",
       "      <td>620.0</td>\n",
       "      <td>980.0</td>\n",
       "    </tr>\n",
       "    <tr>\n",
       "      <th>Completou a Faculdade, mas não completou a Pós-graduação.</th>\n",
       "      <td>7780.0</td>\n",
       "      <td>622.930591</td>\n",
       "      <td>182.034461</td>\n",
       "      <td>0.0</td>\n",
       "      <td>520.0</td>\n",
       "      <td>620.0</td>\n",
       "      <td>760.0</td>\n",
       "      <td>1000.0</td>\n",
       "    </tr>\n",
       "    <tr>\n",
       "      <th>Completou a Pós-graduação.</th>\n",
       "      <td>4644.0</td>\n",
       "      <td>651.024978</td>\n",
       "      <td>184.569702</td>\n",
       "      <td>0.0</td>\n",
       "      <td>540.0</td>\n",
       "      <td>660.0</td>\n",
       "      <td>780.0</td>\n",
       "      <td>1000.0</td>\n",
       "    </tr>\n",
       "    <tr>\n",
       "      <th>Completou o Ensino Médio, mas não completou a Faculdade.</th>\n",
       "      <td>26213.0</td>\n",
       "      <td>545.517873</td>\n",
       "      <td>180.916109</td>\n",
       "      <td>0.0</td>\n",
       "      <td>400.0</td>\n",
       "      <td>560.0</td>\n",
       "      <td>660.0</td>\n",
       "      <td>980.0</td>\n",
       "    </tr>\n",
       "    <tr>\n",
       "      <th>Nunca estudou.</th>\n",
       "      <td>5063.0</td>\n",
       "      <td>426.936599</td>\n",
       "      <td>169.367934</td>\n",
       "      <td>0.0</td>\n",
       "      <td>320.0</td>\n",
       "      <td>400.0</td>\n",
       "      <td>540.0</td>\n",
       "      <td>960.0</td>\n",
       "    </tr>\n",
       "    <tr>\n",
       "      <th>Não completou a 4° série/5° ano do Ensino Fundamental</th>\n",
       "      <td>20336.0</td>\n",
       "      <td>464.323367</td>\n",
       "      <td>164.558359</td>\n",
       "      <td>0.0</td>\n",
       "      <td>340.0</td>\n",
       "      <td>460.0</td>\n",
       "      <td>580.0</td>\n",
       "      <td>980.0</td>\n",
       "    </tr>\n",
       "    <tr>\n",
       "      <th>Não sei</th>\n",
       "      <td>8189.0</td>\n",
       "      <td>475.213091</td>\n",
       "      <td>176.178408</td>\n",
       "      <td>0.0</td>\n",
       "      <td>340.0</td>\n",
       "      <td>480.0</td>\n",
       "      <td>580.0</td>\n",
       "      <td>980.0</td>\n",
       "    </tr>\n",
       "  </tbody>\n",
       "</table>\n",
       "</div>"
      ],
      "text/plain": [
       "                                                   NU_NOTA_REDACAO  \\\n",
       "                                                             count   \n",
       "NO_Q001                                                              \n",
       "Completou a 4° série/5° ano, mas não completou ...         13543.0   \n",
       "Completou a 8ª série/9º ano do Ensino Fundament...         11502.0   \n",
       "Completou a Faculdade, mas não completou a Pós-...          7780.0   \n",
       "Completou a Pós-graduação.                                  4644.0   \n",
       "Completou o Ensino Médio, mas não completou a F...         26213.0   \n",
       "Nunca estudou.                                              5063.0   \n",
       "Não completou a 4° série/5° ano do Ensino Funda...         20336.0   \n",
       "Não sei                                                     8189.0   \n",
       "\n",
       "                                                                            \\\n",
       "                                                          mean         std   \n",
       "NO_Q001                                                                      \n",
       "Completou a 4° série/5° ano, mas não completou ...  492.178985  173.353639   \n",
       "Completou a 8ª série/9º ano do Ensino Fundament...  513.387237  175.279432   \n",
       "Completou a Faculdade, mas não completou a Pós-...  622.930591  182.034461   \n",
       "Completou a Pós-graduação.                          651.024978  184.569702   \n",
       "Completou o Ensino Médio, mas não completou a F...  545.517873  180.916109   \n",
       "Nunca estudou.                                      426.936599  169.367934   \n",
       "Não completou a 4° série/5° ano do Ensino Funda...  464.323367  164.558359   \n",
       "Não sei                                             475.213091  176.178408   \n",
       "\n",
       "                                                                              \\\n",
       "                                                    min    25%    50%    75%   \n",
       "NO_Q001                                                                        \n",
       "Completou a 4° série/5° ano, mas não completou ...  0.0  360.0  500.0  600.0   \n",
       "Completou a 8ª série/9º ano do Ensino Fundament...  0.0  360.0  520.0  620.0   \n",
       "Completou a Faculdade, mas não completou a Pós-...  0.0  520.0  620.0  760.0   \n",
       "Completou a Pós-graduação.                          0.0  540.0  660.0  780.0   \n",
       "Completou o Ensino Médio, mas não completou a F...  0.0  400.0  560.0  660.0   \n",
       "Nunca estudou.                                      0.0  320.0  400.0  540.0   \n",
       "Não completou a 4° série/5° ano do Ensino Funda...  0.0  340.0  460.0  580.0   \n",
       "Não sei                                             0.0  340.0  480.0  580.0   \n",
       "\n",
       "                                                            \n",
       "                                                       max  \n",
       "NO_Q001                                                     \n",
       "Completou a 4° série/5° ano, mas não completou ...   980.0  \n",
       "Completou a 8ª série/9º ano do Ensino Fundament...   980.0  \n",
       "Completou a Faculdade, mas não completou a Pós-...  1000.0  \n",
       "Completou a Pós-graduação.                          1000.0  \n",
       "Completou o Ensino Médio, mas não completou a F...   980.0  \n",
       "Nunca estudou.                                       960.0  \n",
       "Não completou a 4° série/5° ano do Ensino Funda...   980.0  \n",
       "Não sei                                              980.0  "
      ]
     },
     "execution_count": 168,
     "metadata": {},
     "output_type": "execute_result"
    }
   ],
   "source": [
    "dados"
   ]
  }
 ],
 "metadata": {
  "kernelspec": {
   "display_name": "Python 3",
   "language": "python",
   "name": "python3"
  },
  "language_info": {
   "codemirror_mode": {
    "name": "ipython",
    "version": 3
   },
   "file_extension": ".py",
   "mimetype": "text/x-python",
   "name": "python",
   "nbconvert_exporter": "python",
   "pygments_lexer": "ipython3",
   "version": "3.7.7"
  }
 },
 "nbformat": 4,
 "nbformat_minor": 4
}
